{
 "cells": [
  {
   "cell_type": "code",
   "execution_count": 22,
   "metadata": {},
   "outputs": [],
   "source": [
    "import warnings\n",
    "\n",
    "import pandas as pd\n",
    "\n",
    "from MLWrappers import SklearnBlackBox, PyTorchBlackBox, KerasBlackBox\n",
    "from PrivacyAttacks import MiaPrivacyAttack, LabelOnlyPrivacyAttack, AloaPrivacyAttack\n",
    "from MLPrivacyEvaluator import PrivacyEvaluator\n",
    "\n",
    "warnings.simplefilter(\"ignore\", UserWarning)"
   ]
  },
  {
   "cell_type": "code",
   "execution_count": 23,
   "metadata": {},
   "outputs": [],
   "source": [
    "DS_NAME = 'adult'\n",
    "DATA_FOLDER = f'./data/{DS_NAME}'\n",
    "\n",
    "# we load the target black box model using our wrapper\n",
    "# target = SklearnBlackBox(f'./models/{DS_NAME}_dt.pkl')\n",
    "target = SklearnBlackBox(f'./models/{DS_NAME}_rf.pkl')\n",
    "# target = PyTorchBlackBox(f'./models/{DS_NAME}_nn_torch.pt')\n",
    "# target = KerasBlackBox(f'./models/{DS_NAME}_nn_keras.keras')\n",
    "\n",
    "# We load the data used to train, test of the model, as well as the shadow data\n",
    "train_set = pd.read_csv(f'{DATA_FOLDER}/{DS_NAME}_original_train_set.csv', skipinitialspace=True)\n",
    "test_set = pd.read_csv(f'{DATA_FOLDER}/{DS_NAME}_original_test_set.csv', skipinitialspace=True)\n",
    "shadow_set = pd.read_csv(f'{DATA_FOLDER}/{DS_NAME}_shadow_set.csv', skipinitialspace=True)"
   ]
  },
  {
   "cell_type": "code",
   "execution_count": 24,
   "metadata": {},
   "outputs": [],
   "source": [
    "shadow_tree_params = {'min_samples_leaf': 100,\n",
    "                      'max_depth': 10}\n",
    "shadow_forest_params = {'n_estimators': 100}"
   ]
  },
  {
   "cell_type": "code",
   "execution_count": 25,
   "metadata": {},
   "outputs": [],
   "source": [
    "# We initialise the attacks, with the desired parameters for each\n",
    "mia = MiaPrivacyAttack(target,\n",
    "                       n_shadow_models=4)\n",
    "label_only = LabelOnlyPrivacyAttack(target,\n",
    "                                    n_shadow_models=1,\n",
    "                                    shadow_model_type='rf',\n",
    "                                    shadow_model_params=shadow_forest_params,\n",
    "                                    n_noise_samples_fit=1000)\n",
    "aloa = AloaPrivacyAttack(target,\n",
    "                         n_shadow_models=1,\n",
    "                         shadow_model_type='rf',\n",
    "                         shadow_model_params=shadow_forest_params,\n",
    "                         n_noise_samples_fit=1000,\n",
    "                         shadow_test_size=0.5,\n",
    "                         undersample_attack_dataset=True)\n",
    "attacks = [mia, label_only, aloa]"
   ]
  },
  {
   "cell_type": "code",
   "execution_count": 26,
   "metadata": {},
   "outputs": [],
   "source": [
    "# We initialise the PrivacyEvaluator object\n",
    "# We pass the target model and the attacks we want to use\n",
    "evaluator = PrivacyEvaluator(target, attacks)"
   ]
  },
  {
   "cell_type": "code",
   "execution_count": 27,
   "metadata": {},
   "outputs": [
    {
     "name": "stdout",
     "output_type": "stream",
     "text": [
      "{'bootstrap': True, 'ccp_alpha': 0.0, 'class_weight': None, 'criterion': 'gini', 'max_depth': None, 'max_features': 'sqrt', 'max_leaf_nodes': None, 'max_samples': None, 'min_impurity_decrease': 0.0, 'min_samples_leaf': 1, 'min_samples_split': 2, 'min_weight_fraction_leaf': 0.0, 'n_estimators': 100, 'n_jobs': None, 'oob_score': False, 'random_state': None, 'verbose': 0, 'warm_start': False}\n",
      "Each shadow model uses 100.000 % of the data\n"
     ]
    },
    {
     "name": "stderr",
     "output_type": "stream",
     "text": [
      " 64%|██████▍   | 3847/6034 [00:15<00:08, 255.16it/s]\n"
     ]
    },
    {
     "ename": "KeyboardInterrupt",
     "evalue": "",
     "output_type": "error",
     "traceback": [
      "\u001b[1;31m---------------------------------------------------------------------------\u001b[0m",
      "\u001b[1;31mKeyboardInterrupt\u001b[0m                         Traceback (most recent call last)",
      "Cell \u001b[1;32mIn[27], line 2\u001b[0m\n\u001b[0;32m      1\u001b[0m \u001b[38;5;66;03m# We use the fit() method to execute the attacks, starting from the shadow data\u001b[39;00m\n\u001b[1;32m----> 2\u001b[0m \u001b[43mevaluator\u001b[49m\u001b[38;5;241;43m.\u001b[39;49m\u001b[43mfit\u001b[49m\u001b[43m(\u001b[49m\u001b[43mshadow_set\u001b[49m\u001b[43m)\u001b[49m\n",
      "File \u001b[1;32mc:\\Users\\Ion\\MLPrivacyEvaluator\\MLPrivacyEvaluator\\_privacy_evaluator.py:29\u001b[0m, in \u001b[0;36mPrivacyEvaluator.fit\u001b[1;34m(self, shadow_set, save_files, save_folder)\u001b[0m\n\u001b[0;32m     27\u001b[0m Path(save_folder)\u001b[38;5;241m.\u001b[39mmkdir(parents\u001b[38;5;241m=\u001b[39m\u001b[38;5;28;01mTrue\u001b[39;00m, exist_ok\u001b[38;5;241m=\u001b[39m\u001b[38;5;28;01mTrue\u001b[39;00m)\n\u001b[0;32m     28\u001b[0m \u001b[38;5;28;01mfor\u001b[39;00m attack \u001b[38;5;129;01min\u001b[39;00m \u001b[38;5;28mself\u001b[39m\u001b[38;5;241m.\u001b[39mprivacy_attacks:\n\u001b[1;32m---> 29\u001b[0m     \u001b[43mattack\u001b[49m\u001b[38;5;241;43m.\u001b[39;49m\u001b[43mfit\u001b[49m\u001b[43m(\u001b[49m\u001b[43mshadow_set\u001b[49m\u001b[43m,\u001b[49m\u001b[43m \u001b[49m\u001b[43msave_files\u001b[49m\u001b[38;5;241;43m=\u001b[39;49m\u001b[43msave_files\u001b[49m\u001b[43m,\u001b[49m\u001b[43m \u001b[49m\u001b[43msave_folder\u001b[49m\u001b[38;5;241;43m=\u001b[39;49m\u001b[43msave_folder\u001b[49m\u001b[43m)\u001b[49m\n",
      "File \u001b[1;32mc:\\Users\\Ion\\MLPrivacyEvaluator\\PrivacyAttacks\\_label_only_privacy_attack.py:53\u001b[0m, in \u001b[0;36mLabelOnlyPrivacyAttack.fit\u001b[1;34m(self, shadow_dataset, save_files, save_folder)\u001b[0m\n\u001b[0;32m     51\u001b[0m class_labels \u001b[38;5;241m=\u001b[39m attack_dataset\u001b[38;5;241m.\u001b[39mpop(\u001b[38;5;124m'\u001b[39m\u001b[38;5;124mclass_label\u001b[39m\u001b[38;5;124m'\u001b[39m)\n\u001b[0;32m     52\u001b[0m target_labels \u001b[38;5;241m=\u001b[39m attack_dataset\u001b[38;5;241m.\u001b[39mpop(\u001b[38;5;124m'\u001b[39m\u001b[38;5;124mtarget_label\u001b[39m\u001b[38;5;124m'\u001b[39m)\n\u001b[1;32m---> 53\u001b[0m scores \u001b[38;5;241m=\u001b[39m \u001b[38;5;28;43mself\u001b[39;49m\u001b[38;5;241;43m.\u001b[39;49m\u001b[43m_get_robustness_score\u001b[49m\u001b[43m(\u001b[49m\u001b[43mattack_dataset\u001b[49m\u001b[38;5;241;43m.\u001b[39;49m\u001b[43mcopy\u001b[49m\u001b[43m(\u001b[49m\u001b[43m)\u001b[49m\u001b[43m,\u001b[49m\u001b[43m \u001b[49m\u001b[43mclass_labels\u001b[49m\u001b[43m,\u001b[49m\u001b[43m  \u001b[49m\u001b[38;5;28;43mself\u001b[39;49m\u001b[38;5;241;43m.\u001b[39;49m\u001b[43mn_noise_samples_fit\u001b[49m\u001b[43m)\u001b[49m\n\u001b[0;32m     55\u001b[0m \u001b[38;5;66;03m# FIXME Should we do a train-test split?\u001b[39;00m\n\u001b[0;32m     56\u001b[0m scores, test_scores, target_labels, test_target_labels \u001b[38;5;241m=\u001b[39m train_test_split(scores, target_labels,\n\u001b[0;32m     57\u001b[0m                                                                           stratify\u001b[38;5;241m=\u001b[39mtarget_labels, test_size\u001b[38;5;241m=\u001b[39m\u001b[38;5;241m0.2\u001b[39m)\n",
      "File \u001b[1;32mc:\\Users\\Ion\\MLPrivacyEvaluator\\PrivacyAttacks\\_label_only_privacy_attack.py:155\u001b[0m, in \u001b[0;36mLabelOnlyPrivacyAttack._get_robustness_score\u001b[1;34m(self, dataset, class_labels, n_noise_samples)\u001b[0m\n\u001b[0;32m    153\u001b[0m \u001b[38;5;28;01mif\u001b[39;00m y_true \u001b[38;5;241m==\u001b[39m y_predicted:\n\u001b[0;32m    154\u001b[0m     perturbed_row \u001b[38;5;241m=\u001b[39m row\u001b[38;5;241m.\u001b[39mcopy()\n\u001b[1;32m--> 155\u001b[0m     variations \u001b[38;5;241m=\u001b[39m \u001b[38;5;28;43mself\u001b[39;49m\u001b[38;5;241;43m.\u001b[39;49m\u001b[43m_generate_perturbed_records\u001b[49m\u001b[43m(\u001b[49m\u001b[43mperturbed_row\u001b[49m\u001b[43m,\u001b[49m\u001b[43m \u001b[49m\u001b[43mbin_idx\u001b[49m\u001b[43m,\u001b[49m\u001b[43m \u001b[49m\u001b[43mcont_idx\u001b[49m\u001b[43m,\u001b[49m\u001b[43m \u001b[49m\u001b[43mn_noise_samples\u001b[49m\u001b[43m,\u001b[49m\u001b[43m \u001b[49m\u001b[43mstdevs\u001b[49m\u001b[43m)\u001b[49m\n\u001b[0;32m    156\u001b[0m     output \u001b[38;5;241m=\u001b[39m \u001b[38;5;28mself\u001b[39m\u001b[38;5;241m.\u001b[39mbb\u001b[38;5;241m.\u001b[39mpredict(pd\u001b[38;5;241m.\u001b[39mDataFrame(variations))\n\u001b[0;32m    157\u001b[0m     score \u001b[38;5;241m=\u001b[39m np\u001b[38;5;241m.\u001b[39mmean(np\u001b[38;5;241m.\u001b[39marray(\u001b[38;5;28mlist\u001b[39m(\u001b[38;5;28mmap\u001b[39m(\u001b[38;5;28;01mlambda\u001b[39;00m x: \u001b[38;5;241m1\u001b[39m \u001b[38;5;28;01mif\u001b[39;00m x \u001b[38;5;241m==\u001b[39m y_true \u001b[38;5;28;01melse\u001b[39;00m \u001b[38;5;241m0\u001b[39m, output))))\n",
      "File \u001b[1;32mc:\\Users\\Ion\\MLPrivacyEvaluator\\PrivacyAttacks\\_label_only_privacy_attack.py:169\u001b[0m, in \u001b[0;36mLabelOnlyPrivacyAttack._generate_perturbed_records\u001b[1;34m(self, row, bin_idx, cont_idx, n_noise_samples, stdevs)\u001b[0m\n\u001b[0;32m    166\u001b[0m bin_part \u001b[38;5;241m=\u001b[39m row[bin_idx]\n\u001b[0;32m    167\u001b[0m x_sampled \u001b[38;5;241m=\u001b[39m np\u001b[38;5;241m.\u001b[39mtile(np\u001b[38;5;241m.\u001b[39mcopy(row), (n_noise_samples, \u001b[38;5;241m1\u001b[39m))\n\u001b[1;32m--> 169\u001b[0m bits_to_flip \u001b[38;5;241m=\u001b[39m \u001b[43mnp\u001b[49m\u001b[38;5;241;43m.\u001b[39;49m\u001b[43mrandom\u001b[49m\u001b[38;5;241;43m.\u001b[39;49m\u001b[43mbinomial\u001b[49m\u001b[43m(\u001b[49m\u001b[38;5;241;43m1\u001b[39;49m\u001b[43m,\u001b[49m\u001b[43m \u001b[49m\u001b[38;5;28;43mself\u001b[39;49m\u001b[38;5;241;43m.\u001b[39;49m\u001b[43mprob_bit_flip\u001b[49m\u001b[43m,\u001b[49m\u001b[43m \u001b[49m\u001b[43m(\u001b[49m\u001b[43mn_noise_samples\u001b[49m\u001b[43m,\u001b[49m\u001b[43m \u001b[49m\u001b[38;5;28;43mlen\u001b[39;49m\u001b[43m(\u001b[49m\u001b[43mbin_part\u001b[49m\u001b[43m)\u001b[49m\u001b[43m)\u001b[49m\u001b[43m)\u001b[49m\n\u001b[0;32m    171\u001b[0m x_flipped \u001b[38;5;241m=\u001b[39m np\u001b[38;5;241m.\u001b[39minvert(bin_part\u001b[38;5;241m.\u001b[39mastype(\u001b[38;5;28mbool\u001b[39m), out\u001b[38;5;241m=\u001b[39mnp\u001b[38;5;241m.\u001b[39mcopy(x_sampled[:, bin_idx]),\n\u001b[0;32m    172\u001b[0m                       where\u001b[38;5;241m=\u001b[39mbits_to_flip\u001b[38;5;241m.\u001b[39mastype(\u001b[38;5;28mbool\u001b[39m))\u001b[38;5;241m.\u001b[39mastype(np\u001b[38;5;241m.\u001b[39mfloat64)\n\u001b[0;32m    174\u001b[0m noise \u001b[38;5;241m=\u001b[39m stdevs[cont_idx] \u001b[38;5;241m*\u001b[39m np\u001b[38;5;241m.\u001b[39mrandom\u001b[38;5;241m.\u001b[39mrandn(n_noise_samples, \u001b[38;5;28mlen\u001b[39m(cont_part))\n",
      "\u001b[1;31mKeyboardInterrupt\u001b[0m: "
     ]
    }
   ],
   "source": [
    "# We use the fit() method to execute the attacks, starting from the shadow data\n",
    "evaluator.fit(shadow_set)"
   ]
  },
  {
   "cell_type": "code",
   "execution_count": null,
   "metadata": {},
   "outputs": [
    {
     "name": "stderr",
     "output_type": "stream",
     "text": [
      "100%|██████████| 32000/32000 [01:19<00:00, 400.29it/s]\n",
      "100%|██████████| 32000/32000 [01:43<00:00, 310.01it/s]\n"
     ]
    },
    {
     "name": "stdout",
     "output_type": "stream",
     "text": [
      "{'mia_attack': {'classification_report': {'IN': {'precision': 0.8002239125423952, 'recall': 0.949296875, 'f1-score': 0.8684092980042524, 'support': 25600}, 'OUT': {'precision': 0.2041692213366033, 'recall': 0.05203125, 'f1-score': 0.08292865147553233, 'support': 6400}, 'accuracy': 0.76984375, 'macro avg': {'precision': 0.5021965669394992, 'recall': 0.5006640625000001, 'f1-score': 0.47566897473989234, 'support': 32000}, 'weighted avg': {'precision': 0.6810129743012368, 'recall': 0.76984375, 'f1-score': 0.7113131686985085, 'support': 32000}}}, 'label_only_attack': {'classification_report': {'IN': {'precision': 0.0, 'recall': 0.0, 'f1-score': 0.0, 'support': 25600}, 'OUT': {'precision': 0.2, 'recall': 1.0, 'f1-score': 0.33333333333333337, 'support': 6400}, 'accuracy': 0.2, 'macro avg': {'precision': 0.1, 'recall': 0.5, 'f1-score': 0.16666666666666669, 'support': 32000}, 'weighted avg': {'precision': 0.04, 'recall': 0.2, 'f1-score': 0.06666666666666667, 'support': 32000}}}, 'aloa_attack': {'classification_report': {'IN': {'precision': 0.0, 'recall': 0.0, 'f1-score': 0.0, 'support': 25600}, 'OUT': {'precision': 0.2, 'recall': 1.0, 'f1-score': 0.33333333333333337, 'support': 6400}, 'accuracy': 0.2, 'macro avg': {'precision': 0.1, 'recall': 0.5, 'f1-score': 0.16666666666666669, 'support': 32000}, 'weighted avg': {'precision': 0.04, 'recall': 0.2, 'f1-score': 0.06666666666666667, 'support': 32000}}}}\n"
     ]
    }
   ],
   "source": [
    "# Then we can obtain the performances using the report() method\n",
    "results = evaluator.report(train_set, test_set)\n",
    "print(results)\n"
   ]
  },
  {
   "cell_type": "code",
   "execution_count": null,
   "metadata": {},
   "outputs": [
    {
     "data": {
      "text/plain": [
       "{'IN': {'precision': 0.8002239125423952,\n",
       "  'recall': 0.949296875,\n",
       "  'f1-score': 0.8684092980042524,\n",
       "  'support': 25600},\n",
       " 'OUT': {'precision': 0.2041692213366033,\n",
       "  'recall': 0.05203125,\n",
       "  'f1-score': 0.08292865147553233,\n",
       "  'support': 6400},\n",
       " 'accuracy': 0.76984375,\n",
       " 'macro avg': {'precision': 0.5021965669394992,\n",
       "  'recall': 0.5006640625000001,\n",
       "  'f1-score': 0.47566897473989234,\n",
       "  'support': 32000},\n",
       " 'weighted avg': {'precision': 0.6810129743012368,\n",
       "  'recall': 0.76984375,\n",
       "  'f1-score': 0.7113131686985085,\n",
       "  'support': 32000}}"
      ]
     },
     "execution_count": 18,
     "metadata": {},
     "output_type": "execute_result"
    }
   ],
   "source": [
    "results['mia_attack']['classification_report']"
   ]
  },
  {
   "cell_type": "code",
   "execution_count": null,
   "metadata": {},
   "outputs": [
    {
     "data": {
      "text/plain": [
       "{'IN': {'precision': 0.0, 'recall': 0.0, 'f1-score': 0.0, 'support': 25600},\n",
       " 'OUT': {'precision': 0.2,\n",
       "  'recall': 1.0,\n",
       "  'f1-score': 0.33333333333333337,\n",
       "  'support': 6400},\n",
       " 'accuracy': 0.2,\n",
       " 'macro avg': {'precision': 0.1,\n",
       "  'recall': 0.5,\n",
       "  'f1-score': 0.16666666666666669,\n",
       "  'support': 32000},\n",
       " 'weighted avg': {'precision': 0.04,\n",
       "  'recall': 0.2,\n",
       "  'f1-score': 0.06666666666666667,\n",
       "  'support': 32000}}"
      ]
     },
     "execution_count": 19,
     "metadata": {},
     "output_type": "execute_result"
    }
   ],
   "source": [
    "results['label_only_attack']['classification_report']"
   ]
  },
  {
   "cell_type": "code",
   "execution_count": null,
   "metadata": {},
   "outputs": [
    {
     "data": {
      "text/plain": [
       "{'IN': {'precision': 0.0, 'recall': 0.0, 'f1-score': 0.0, 'support': 25600},\n",
       " 'OUT': {'precision': 0.2,\n",
       "  'recall': 1.0,\n",
       "  'f1-score': 0.33333333333333337,\n",
       "  'support': 6400},\n",
       " 'accuracy': 0.2,\n",
       " 'macro avg': {'precision': 0.1,\n",
       "  'recall': 0.5,\n",
       "  'f1-score': 0.16666666666666669,\n",
       "  'support': 32000},\n",
       " 'weighted avg': {'precision': 0.04,\n",
       "  'recall': 0.2,\n",
       "  'f1-score': 0.06666666666666667,\n",
       "  'support': 32000}}"
      ]
     },
     "execution_count": 20,
     "metadata": {},
     "output_type": "execute_result"
    }
   ],
   "source": [
    "results['aloa_attack']['classification_report']"
   ]
  },
  {
   "cell_type": "code",
   "execution_count": null,
   "metadata": {},
   "outputs": [
    {
     "data": {
      "text/plain": [
       "0.9"
      ]
     },
     "execution_count": 21,
     "metadata": {},
     "output_type": "execute_result"
    }
   ],
   "source": [
    "aloa.attack_model.threshold"
   ]
  },
  {
   "cell_type": "code",
   "execution_count": null,
   "metadata": {},
   "outputs": [],
   "source": []
  }
 ],
 "metadata": {
  "kernelspec": {
   "display_name": "thesis",
   "language": "python",
   "name": "python3"
  },
  "language_info": {
   "codemirror_mode": {
    "name": "ipython",
    "version": 3
   },
   "file_extension": ".py",
   "mimetype": "text/x-python",
   "name": "python",
   "nbconvert_exporter": "python",
   "pygments_lexer": "ipython3",
   "version": "3.10.13"
  }
 },
 "nbformat": 4,
 "nbformat_minor": 2
}
