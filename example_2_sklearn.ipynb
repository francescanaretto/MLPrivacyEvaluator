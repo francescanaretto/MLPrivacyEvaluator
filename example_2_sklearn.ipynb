{
 "cells": [
  {
   "cell_type": "code",
   "execution_count": 26,
   "metadata": {},
   "outputs": [],
   "source": [
    "import warnings\n",
    "\n",
    "import pandas as pd\n",
    "import numpy as np\n",
    "import torch\n",
    "\n",
    "from MLWrappers import SklearnBlackBox\n",
    "from PrivacyAttacks import MiaPrivacyAttack, LabelOnlyPrivacyAttack, AloaPrivacyAttack\n",
    "from MLPrivacyEvaluator import PrivacyEvaluator\n",
    "\n",
    "warnings.simplefilter(\"ignore\", UserWarning)"
   ]
  },
  {
   "cell_type": "code",
   "execution_count": 27,
   "metadata": {},
   "outputs": [],
   "source": [
    "MODEL_NAME = 'rf'\n",
    "DS_NAME = 'adult'\n",
    "DATA_FOLDER = f'./data/{DS_NAME}'\n",
    "\n",
    "# We load the data used to train and test the model, as well as the shadow data\n",
    "train_set = pd.read_csv(f'{DATA_FOLDER}/{DS_NAME}_original_train_set.csv', skipinitialspace=True)\n",
    "train_label = pd.read_csv(f'{DATA_FOLDER}/{DS_NAME}_original_train_label.csv', skipinitialspace=True)\n",
    "test_set = pd.read_csv(f'{DATA_FOLDER}/{DS_NAME}_original_test_set.csv', skipinitialspace=True)\n",
    "shadow_set = pd.read_csv(f'{DATA_FOLDER}/{DS_NAME}_shadow_set.csv', skipinitialspace=True)\n"
   ]
  },
  {
   "cell_type": "code",
   "execution_count": 28,
   "metadata": {},
   "outputs": [],
   "source": [
    "# we load the target black box model using our wrapper\n",
    "target = SklearnBlackBox(f'./models/{DS_NAME}_{MODEL_NAME}.pkl')"
   ]
  },
  {
   "cell_type": "code",
   "execution_count": 29,
   "metadata": {},
   "outputs": [],
   "source": [
    "# We can define the parameters to be passed to the shadow models (in our case random forests)\n",
    "shadow_forest_params = {'n_estimators': 100, 'max_depth': 5}"
   ]
  },
  {
   "cell_type": "code",
   "execution_count": 30,
   "metadata": {},
   "outputs": [],
   "source": [
    "# We initialise the attacks, with the desired parameters for each\n",
    "mia = MiaPrivacyAttack(target,\n",
    "                       n_shadow_models=5)\n",
    "label_only = LabelOnlyPrivacyAttack(target,\n",
    "                                    n_shadow_models=1,\n",
    "                                    shadow_model_type='rf',\n",
    "                                    shadow_model_params=shadow_forest_params,\n",
    "                                    n_noise_samples_fit=1000,\n",
    "                                    shadow_test_size=0.45)\n",
    "aloa = AloaPrivacyAttack(target,\n",
    "                         n_shadow_models=1,\n",
    "                         shadow_model_type='rf',\n",
    "                         shadow_model_params=shadow_forest_params,\n",
    "                         n_noise_samples_fit=1000,\n",
    "                         shadow_test_size=0.45,\n",
    "                         undersample_attack_dataset=True)\n",
    "attacks = [\n",
    "    mia,\n",
    "    label_only,\n",
    "    aloa\n",
    "]"
   ]
  },
  {
   "cell_type": "code",
   "execution_count": 31,
   "metadata": {},
   "outputs": [],
   "source": [
    "# We initialise the PrivacyEvaluator object\n",
    "# We pass the target model and the list of attacks we want to use\n",
    "evaluator = PrivacyEvaluator(target, attacks)"
   ]
  },
  {
   "cell_type": "code",
   "execution_count": 32,
   "metadata": {},
   "outputs": [
    {
     "name": "stderr",
     "output_type": "stream",
     "text": [
      "100%|██████████| 5432/5432 [02:40<00:00, 33.88it/s]\n",
      "100%|██████████| 5432/5432 [02:20<00:00, 38.53it/s]\n"
     ]
    }
   ],
   "source": [
    "# We use the fit() method to execute the attacks, starting from the shadow data\n",
    "evaluator.fit(shadow_set, save_folder = f'./results_{DS_NAME}_{MODEL_NAME}')"
   ]
  },
  {
   "cell_type": "code",
   "execution_count": 33,
   "metadata": {},
   "outputs": [
    {
     "name": "stderr",
     "output_type": "stream",
     "text": [
      "100%|██████████| 24134/24134 [02:42<00:00, 148.21it/s]\n",
      "100%|██████████| 24134/24134 [12:45<00:00, 31.52it/s]\n",
      "  7%|▋         | 1677/24134 [00:46<10:29, 35.68it/s]\n"
     ]
    },
    {
     "ename": "KeyboardInterrupt",
     "evalue": "",
     "output_type": "error",
     "traceback": [
      "\u001b[1;31m---------------------------------------------------------------------------\u001b[0m",
      "\u001b[1;31mKeyboardInterrupt\u001b[0m                         Traceback (most recent call last)",
      "Cell \u001b[1;32mIn[33], line 2\u001b[0m\n\u001b[0;32m      1\u001b[0m \u001b[38;5;66;03m# Then we can obtain the performances using the report() method\u001b[39;00m\n\u001b[1;32m----> 2\u001b[0m results \u001b[38;5;241m=\u001b[39m \u001b[43mevaluator\u001b[49m\u001b[38;5;241;43m.\u001b[39;49m\u001b[43mreport\u001b[49m\u001b[43m(\u001b[49m\u001b[43mtrain_set\u001b[49m\u001b[43m,\u001b[49m\u001b[43m \u001b[49m\u001b[43mtest_set\u001b[49m\u001b[43m)\u001b[49m\n\u001b[0;32m      3\u001b[0m \u001b[38;5;28mprint\u001b[39m(results)\n",
      "File \u001b[1;32mc:\\Users\\Ion\\MLPrivacyEvaluator\\MLPrivacyEvaluator\\_privacy_evaluator.py:43\u001b[0m, in \u001b[0;36mPrivacyEvaluator.report\u001b[1;34m(self, train_set, test_set, metrics)\u001b[0m\n\u001b[0;32m     41\u001b[0m Path(\u001b[38;5;28mself\u001b[39m\u001b[38;5;241m.\u001b[39msave_folder\u001b[38;5;241m+\u001b[39m\u001b[38;5;124mf\u001b[39m\u001b[38;5;124m'\u001b[39m\u001b[38;5;124m/\u001b[39m\u001b[38;5;132;01m{\u001b[39;00mattack\u001b[38;5;241m.\u001b[39mname\u001b[38;5;132;01m}\u001b[39;00m\u001b[38;5;124m/reports\u001b[39m\u001b[38;5;124m'\u001b[39m)\u001b[38;5;241m.\u001b[39mmkdir(parents\u001b[38;5;241m=\u001b[39m\u001b[38;5;28;01mTrue\u001b[39;00m, exist_ok\u001b[38;5;241m=\u001b[39m\u001b[38;5;28;01mTrue\u001b[39;00m)\n\u001b[0;32m     42\u001b[0m attack_res \u001b[38;5;241m=\u001b[39m {}\n\u001b[1;32m---> 43\u001b[0m predictions \u001b[38;5;241m=\u001b[39m \u001b[43mattack\u001b[49m\u001b[38;5;241;43m.\u001b[39;49m\u001b[43mpredict\u001b[49m\u001b[43m(\u001b[49m\u001b[43mdata\u001b[49m\u001b[43m)\u001b[49m\n\u001b[0;32m     44\u001b[0m report \u001b[38;5;241m=\u001b[39m classification_report(membership, predictions, digits\u001b[38;5;241m=\u001b[39m\u001b[38;5;241m3\u001b[39m, output_dict\u001b[38;5;241m=\u001b[39m\u001b[38;5;28;01mTrue\u001b[39;00m)\n\u001b[0;32m     45\u001b[0m attack_res[\u001b[38;5;124m'\u001b[39m\u001b[38;5;124mclassification_report\u001b[39m\u001b[38;5;124m'\u001b[39m] \u001b[38;5;241m=\u001b[39m report\n",
      "File \u001b[1;32mc:\\Users\\Ion\\MLPrivacyEvaluator\\PrivacyAttacks\\_aloa_privacy_attack.py:83\u001b[0m, in \u001b[0;36mAloaPrivacyAttack.predict\u001b[1;34m(self, X)\u001b[0m\n\u001b[0;32m     81\u001b[0m \u001b[38;5;28;01mdef\u001b[39;00m \u001b[38;5;21mpredict\u001b[39m(\u001b[38;5;28mself\u001b[39m, X: pd\u001b[38;5;241m.\u001b[39mDataFrame) \u001b[38;5;241m-\u001b[39m\u001b[38;5;241m>\u001b[39m np\u001b[38;5;241m.\u001b[39mndarray:\n\u001b[0;32m     82\u001b[0m     class_labels \u001b[38;5;241m=\u001b[39m \u001b[38;5;28mself\u001b[39m\u001b[38;5;241m.\u001b[39mbb\u001b[38;5;241m.\u001b[39mpredict(X)\n\u001b[1;32m---> 83\u001b[0m     scores \u001b[38;5;241m=\u001b[39m \u001b[38;5;28;43mself\u001b[39;49m\u001b[38;5;241;43m.\u001b[39;49m\u001b[43m_get_robustness_score\u001b[49m\u001b[43m(\u001b[49m\u001b[43mX\u001b[49m\u001b[38;5;241;43m.\u001b[39;49m\u001b[43mcopy\u001b[49m\u001b[43m(\u001b[49m\u001b[43m)\u001b[49m\u001b[43m,\u001b[49m\u001b[43m \u001b[49m\u001b[43mclass_labels\u001b[49m\u001b[43m,\u001b[49m\u001b[43m  \u001b[49m\u001b[38;5;28;43mself\u001b[39;49m\u001b[38;5;241;43m.\u001b[39;49m\u001b[43mn_noise_samples_predict\u001b[49m\u001b[43m)\u001b[49m\n\u001b[0;32m     84\u001b[0m     predictions \u001b[38;5;241m=\u001b[39m \u001b[38;5;28mself\u001b[39m\u001b[38;5;241m.\u001b[39mattack_model\u001b[38;5;241m.\u001b[39mpredict(scores)\n\u001b[0;32m     85\u001b[0m     \u001b[38;5;66;03m# predictions = np.array(list(map(lambda score: \"IN\" if score == 1 else \"OUT\", predictions)))\u001b[39;00m\n",
      "File \u001b[1;32mc:\\Users\\Ion\\MLPrivacyEvaluator\\PrivacyAttacks\\_aloa_privacy_attack.py:159\u001b[0m, in \u001b[0;36mAloaPrivacyAttack._get_robustness_score\u001b[1;34m(self, dataset, class_labels, n_noise_samples)\u001b[0m\n\u001b[0;32m    157\u001b[0m \u001b[38;5;28;01mif\u001b[39;00m y_true \u001b[38;5;241m==\u001b[39m y_predicted:\n\u001b[0;32m    158\u001b[0m     perturbed_row \u001b[38;5;241m=\u001b[39m row\u001b[38;5;241m.\u001b[39mcopy()\n\u001b[1;32m--> 159\u001b[0m     variations \u001b[38;5;241m=\u001b[39m \u001b[38;5;28;43mself\u001b[39;49m\u001b[38;5;241;43m.\u001b[39;49m\u001b[43m_generate_noise_neighborhood\u001b[49m\u001b[43m(\u001b[49m\u001b[43mperturbed_row\u001b[49m\u001b[43m,\u001b[49m\u001b[43m \u001b[49m\u001b[43mn_noise_samples\u001b[49m\u001b[43m)\u001b[49m\n\u001b[0;32m    160\u001b[0m     output \u001b[38;5;241m=\u001b[39m \u001b[38;5;28mself\u001b[39m\u001b[38;5;241m.\u001b[39mbb\u001b[38;5;241m.\u001b[39mpredict(pd\u001b[38;5;241m.\u001b[39mDataFrame(variations))\n\u001b[0;32m    161\u001b[0m     score \u001b[38;5;241m=\u001b[39m np\u001b[38;5;241m.\u001b[39mmean(np\u001b[38;5;241m.\u001b[39marray(\u001b[38;5;28mlist\u001b[39m(\u001b[38;5;28mmap\u001b[39m(\u001b[38;5;28;01mlambda\u001b[39;00m x: \u001b[38;5;241m1\u001b[39m \u001b[38;5;28;01mif\u001b[39;00m x \u001b[38;5;241m==\u001b[39m y_true \u001b[38;5;28;01melse\u001b[39;00m \u001b[38;5;241m0\u001b[39m, output))))\n",
      "File \u001b[1;32mc:\\Users\\Ion\\MLPrivacyEvaluator\\PrivacyAttacks\\_aloa_privacy_attack.py:175\u001b[0m, in \u001b[0;36mAloaPrivacyAttack._generate_noise_neighborhood\u001b[1;34m(self, row, n_noise_samples)\u001b[0m\n\u001b[0;32m    172\u001b[0m vect_matrix \u001b[38;5;241m=\u001b[39m np\u001b[38;5;241m.\u001b[39mtile(row, (n_noise_samples, \u001b[38;5;241m1\u001b[39m))\n\u001b[0;32m    174\u001b[0m \u001b[38;5;66;03m# Create a matrix of percentage perturbations to be applied to vect_matrix\u001b[39;00m\n\u001b[1;32m--> 175\u001b[0m sampl \u001b[38;5;241m=\u001b[39m \u001b[43mnp\u001b[49m\u001b[38;5;241;43m.\u001b[39;49m\u001b[43mrandom\u001b[49m\u001b[38;5;241;43m.\u001b[39;49m\u001b[43muniform\u001b[49m\u001b[43m(\u001b[49m\u001b[43mlow\u001b[49m\u001b[38;5;241;43m=\u001b[39;49m\u001b[38;5;28;43mself\u001b[39;49m\u001b[38;5;241;43m.\u001b[39;49m\u001b[43mpmin\u001b[49m\u001b[43m,\u001b[49m\u001b[43m \u001b[49m\u001b[43mhigh\u001b[49m\u001b[38;5;241;43m=\u001b[39;49m\u001b[38;5;28;43mself\u001b[39;49m\u001b[38;5;241;43m.\u001b[39;49m\u001b[43mpmax\u001b[49m\u001b[43m,\u001b[49m\u001b[43m \u001b[49m\u001b[43msize\u001b[49m\u001b[38;5;241;43m=\u001b[39;49m\u001b[43m(\u001b[49m\u001b[43mn_noise_samples\u001b[49m\u001b[43m,\u001b[49m\u001b[43m \u001b[49m\u001b[38;5;28;43mlen\u001b[39;49m\u001b[43m(\u001b[49m\u001b[43mrow\u001b[49m\u001b[43m)\u001b[49m\u001b[43m)\u001b[49m\u001b[43m)\u001b[49m\n\u001b[0;32m    176\u001b[0m \u001b[38;5;66;03m# Vector for adding or subtracking a value\u001b[39;00m\n\u001b[0;32m    177\u001b[0m sum_sub \u001b[38;5;241m=\u001b[39m np\u001b[38;5;241m.\u001b[39mrandom\u001b[38;5;241m.\u001b[39mchoice([\u001b[38;5;241m-\u001b[39m\u001b[38;5;241m1\u001b[39m, \u001b[38;5;241m1\u001b[39m], size\u001b[38;5;241m=\u001b[39m(n_noise_samples, \u001b[38;5;28mlen\u001b[39m(row)))\n",
      "\u001b[1;31mKeyboardInterrupt\u001b[0m: "
     ]
    }
   ],
   "source": [
    "# Then we can obtain the performances using the report() method\n",
    "results = evaluator.report(train_set, test_set)\n",
    "print(results)"
   ]
  },
  {
   "cell_type": "code",
   "execution_count": 34,
   "metadata": {},
   "outputs": [
    {
     "data": {
      "text/plain": [
       "{'IN': {'precision': 0.8405278592375367,\n",
       "  'recall': 0.7422696431346144,\n",
       "  'f1-score': 0.7883488736694446,\n",
       "  'support': 19307},\n",
       " 'OUT': {'precision': 0.29757199322416716,\n",
       "  'recall': 0.436710171949451,\n",
       "  'f1-score': 0.3539585257325161,\n",
       "  'support': 4827},\n",
       " 'accuracy': 0.6811552167067209,\n",
       " 'macro avg': {'precision': 0.5690499262308519,\n",
       "  'recall': 0.5894899075420327,\n",
       "  'f1-score': 0.5711536997009804,\n",
       "  'support': 24134},\n",
       " 'weighted avg': {'precision': 0.73193218652491,\n",
       "  'recall': 0.6811552167067209,\n",
       "  'f1-score': 0.701467204261491,\n",
       "  'support': 24134}}"
      ]
     },
     "execution_count": 34,
     "metadata": {},
     "output_type": "execute_result"
    }
   ],
   "source": [
    "results['mia_attack']['classification_report']"
   ]
  },
  {
   "cell_type": "code",
   "execution_count": 37,
   "metadata": {},
   "outputs": [
    {
     "data": {
      "text/plain": [
       "{'IN': {'precision': 0.7999917129361067,\n",
       "  'recall': 1.0,\n",
       "  'f1-score': 0.8888837733937984,\n",
       "  'support': 19307},\n",
       " 'OUT': {'precision': 0.0, 'recall': 0.0, 'f1-score': 0.0, 'support': 4827},\n",
       " 'accuracy': 0.7999917129361067,\n",
       " 'macro avg': {'precision': 0.39999585646805336,\n",
       "  'recall': 0.5,\n",
       "  'f1-score': 0.4444418866968992,\n",
       "  'support': 24134},\n",
       " 'weighted avg': {'precision': 0.6399867407664462,\n",
       "  'recall': 0.7999917129361067,\n",
       "  'f1-score': 0.7110996524784149,\n",
       "  'support': 24134}}"
      ]
     },
     "execution_count": 37,
     "metadata": {},
     "output_type": "execute_result"
    }
   ],
   "source": [
    "results['label_only_attack']['classification_report']"
   ]
  },
  {
   "cell_type": "code",
   "execution_count": 38,
   "metadata": {},
   "outputs": [
    {
     "data": {
      "text/plain": [
       "{'IN': {'precision': 0.7995006242197253,\n",
       "  'recall': 0.9950795048428032,\n",
       "  'f1-score': 0.8866326695433464,\n",
       "  'support': 19307},\n",
       " 'OUT': {'precision': 0.08653846153846154,\n",
       "  'recall': 0.0018645121193287756,\n",
       "  'f1-score': 0.003650375177448793,\n",
       "  'support': 4827},\n",
       " 'accuracy': 0.7964282754620038,\n",
       " 'macro avg': {'precision': 0.44301954287909345,\n",
       "  'recall': 0.498472008481066,\n",
       "  'f1-score': 0.4451415223603976,\n",
       "  'support': 24134},\n",
       " 'weighted avg': {'precision': 0.656902283320477,\n",
       "  'recall': 0.7964282754620038,\n",
       "  'f1-score': 0.7100288933394769,\n",
       "  'support': 24134}}"
      ]
     },
     "execution_count": 38,
     "metadata": {},
     "output_type": "execute_result"
    }
   ],
   "source": [
    "results['aloa_attack']['classification_report']"
   ]
  }
 ],
 "metadata": {
  "kernelspec": {
   "display_name": "evaluator",
   "language": "python",
   "name": "python3"
  },
  "language_info": {
   "codemirror_mode": {
    "name": "ipython",
    "version": 3
   },
   "file_extension": ".py",
   "mimetype": "text/x-python",
   "name": "python",
   "nbconvert_exporter": "python",
   "pygments_lexer": "ipython3",
   "version": "3.10.13"
  }
 },
 "nbformat": 4,
 "nbformat_minor": 2
}
