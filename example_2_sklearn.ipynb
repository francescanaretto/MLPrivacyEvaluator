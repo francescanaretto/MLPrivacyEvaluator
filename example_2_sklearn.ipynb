{
 "cells": [
  {
   "cell_type": "code",
   "execution_count": 1,
   "metadata": {},
   "outputs": [],
   "source": [
    "import warnings\n",
    "\n",
    "import pandas as pd\n",
    "import numpy as np\n",
    "import torch\n",
    "\n",
    "from MLWrappers import SklearnBlackBox\n",
    "from PrivacyAttacks import MiaPrivacyAttack, LabelOnlyPrivacyAttack, AloaPrivacyAttack\n",
    "from MLPrivacyEvaluator import PrivacyEvaluator\n",
    "\n",
    "warnings.simplefilter(\"ignore\", UserWarning)"
   ]
  },
  {
   "cell_type": "code",
   "execution_count": 2,
   "metadata": {},
   "outputs": [],
   "source": [
    "MODEL_NAME = 'dt'\n",
    "DS_NAME = 'adult'\n",
    "DATA_FOLDER = f'./data/{DS_NAME}'\n",
    "\n",
    "# We load the data used to train and test the model, as well as the shadow data\n",
    "train_set = pd.read_csv(f'{DATA_FOLDER}/{DS_NAME}_original_train_set.csv', skipinitialspace=True)\n",
    "train_label = pd.read_csv(f'{DATA_FOLDER}/{DS_NAME}_original_train_label.csv', skipinitialspace=True)\n",
    "test_set = pd.read_csv(f'{DATA_FOLDER}/{DS_NAME}_original_test_set.csv', skipinitialspace=True)\n",
    "shadow_set = pd.read_csv(f'{DATA_FOLDER}/{DS_NAME}_shadow_set.csv', skipinitialspace=True)\n"
   ]
  },
  {
   "cell_type": "code",
   "execution_count": 3,
   "metadata": {},
   "outputs": [],
   "source": [
    "# we load the target black box model using our wrapper\n",
    "target = SklearnBlackBox(f'./models/{DS_NAME}_{MODEL_NAME}.pkl')"
   ]
  },
  {
   "cell_type": "code",
   "execution_count": 4,
   "metadata": {},
   "outputs": [],
   "source": [
    "# We can define the parameters to be passed to the shadow models (in our case random forests)\n",
    "shadow_forest_params = {'n_estimators': 100}"
   ]
  },
  {
   "cell_type": "code",
   "execution_count": 5,
   "metadata": {},
   "outputs": [],
   "source": [
    "# We initialise the attacks, with the desired parameters for each\n",
    "mia = MiaPrivacyAttack(target,\n",
    "                       n_shadow_models=5)\n",
    "label_only = LabelOnlyPrivacyAttack(target,\n",
    "                                    n_shadow_models=5,\n",
    "                                    shadow_model_type='rf',\n",
    "                                    shadow_model_params=shadow_forest_params,\n",
    "                                    n_noise_samples_fit=1000)\n",
    "aloa = AloaPrivacyAttack(target,\n",
    "                         n_shadow_models=5,\n",
    "                         shadow_model_type='rf',\n",
    "                         shadow_model_params=shadow_forest_params,\n",
    "                         n_noise_samples_fit=1000,\n",
    "                         shadow_test_size=0.3,\n",
    "                         undersample_attack_dataset=True)\n",
    "attacks = [\n",
    "    mia,\n",
    "    label_only,\n",
    "    aloa\n",
    "]"
   ]
  },
  {
   "cell_type": "code",
   "execution_count": 6,
   "metadata": {},
   "outputs": [],
   "source": [
    "# We initialise the PrivacyEvaluator object\n",
    "# We pass the target model and the list of attacks we want to use\n",
    "evaluator = PrivacyEvaluator(target, attacks)"
   ]
  },
  {
   "cell_type": "code",
   "execution_count": 7,
   "metadata": {},
   "outputs": [
    {
     "name": "stderr",
     "output_type": "stream",
     "text": [
      "100%|██████████| 6030/6030 [01:06<00:00, 91.19it/s] \n",
      "100%|██████████| 3630/3630 [00:30<00:00, 117.78it/s]\n"
     ]
    }
   ],
   "source": [
    "# We use the fit() method to execute the attacks, starting from the shadow data\n",
    "evaluator.fit(shadow_set, save_folder = f'./results_{DS_NAME}_{MODEL_NAME}')"
   ]
  },
  {
   "cell_type": "code",
   "execution_count": 8,
   "metadata": {},
   "outputs": [
    {
     "name": "stderr",
     "output_type": "stream",
     "text": [
      "100%|██████████| 24134/24134 [05:21<00:00, 75.03it/s]\n",
      "100%|██████████| 24134/24134 [03:28<00:00, 115.80it/s]\n"
     ]
    },
    {
     "name": "stdout",
     "output_type": "stream",
     "text": [
      "{'mia_attack': {'classification_report': {'IN': {'precision': 0.8073199840869911, 'recall': 0.31532604754752164, 'f1-score': 0.45351609058402864, 'support': 19307}, 'OUT': {'precision': 0.20333875730729825, 'recall': 0.6989848767350321, 'f1-score': 0.3150326797385621, 'support': 4827}, 'accuracy': 0.3920609927902544, 'macro avg': {'precision': 0.5053293706971447, 'recall': 0.5071554621412768, 'f1-score': 0.38427438516129536, 'support': 24134}, 'weighted avg': {'precision': 0.6865187335000358, 'recall': 0.3920609927902544, 'f1-score': 0.42581826079406154, 'support': 24134}}}, 'label_only_attack': {'classification_report': {'IN': {'precision': 0.8012559549588566, 'recall': 0.9582534831926245, 'f1-score': 0.872750430454985, 'support': 19307}, 'OUT': {'precision': 0.22796934865900384, 'recall': 0.04930598715558318, 'f1-score': 0.08107647760177142, 'support': 4827}, 'accuracy': 0.7764564514792409, 'macro avg': {'precision': 0.5146126518089302, 'recall': 0.5037797351741038, 'f1-score': 0.4769134540283782, 'support': 24134}, 'weighted avg': {'precision': 0.6865938828361505, 'recall': 0.7764564514792409, 'f1-score': 0.7144090792317124, 'support': 24134}}}, 'aloa_attack': {'classification_report': {'IN': {'precision': 0.7999253297934125, 'recall': 0.9987569275392345, 'f1-score': 0.8883514154746275, 'support': 19307}, 'OUT': {'precision': 0.14285714285714285, 'recall': 0.0008286720530350114, 'f1-score': 0.0016477857878475798, 'support': 4827}, 'accuracy': 0.7991630065467805, 'macro avg': {'precision': 0.4713912363252777, 'recall': 0.4997927997961348, 'f1-score': 0.44499960063123756, 'support': 24134}, 'weighted avg': {'precision': 0.6685062472401112, 'recall': 0.7991630065467805, 'f1-score': 0.7110033413676379, 'support': 24134}}}}\n"
     ]
    }
   ],
   "source": [
    "# Then we can obtain the performances using the report() method\n",
    "results = evaluator.report(train_set, test_set)\n",
    "print(results)"
   ]
  },
  {
   "cell_type": "code",
   "execution_count": 9,
   "metadata": {},
   "outputs": [
    {
     "data": {
      "text/plain": [
       "{'IN': {'precision': 0.8073199840869911,\n",
       "  'recall': 0.31532604754752164,\n",
       "  'f1-score': 0.45351609058402864,\n",
       "  'support': 19307},\n",
       " 'OUT': {'precision': 0.20333875730729825,\n",
       "  'recall': 0.6989848767350321,\n",
       "  'f1-score': 0.3150326797385621,\n",
       "  'support': 4827},\n",
       " 'accuracy': 0.3920609927902544,\n",
       " 'macro avg': {'precision': 0.5053293706971447,\n",
       "  'recall': 0.5071554621412768,\n",
       "  'f1-score': 0.38427438516129536,\n",
       "  'support': 24134},\n",
       " 'weighted avg': {'precision': 0.6865187335000358,\n",
       "  'recall': 0.3920609927902544,\n",
       "  'f1-score': 0.42581826079406154,\n",
       "  'support': 24134}}"
      ]
     },
     "execution_count": 9,
     "metadata": {},
     "output_type": "execute_result"
    }
   ],
   "source": [
    "results['mia_attack']['classification_report']"
   ]
  },
  {
   "cell_type": "code",
   "execution_count": 10,
   "metadata": {},
   "outputs": [
    {
     "data": {
      "text/plain": [
       "{'IN': {'precision': 0.8012559549588566,\n",
       "  'recall': 0.9582534831926245,\n",
       "  'f1-score': 0.872750430454985,\n",
       "  'support': 19307},\n",
       " 'OUT': {'precision': 0.22796934865900384,\n",
       "  'recall': 0.04930598715558318,\n",
       "  'f1-score': 0.08107647760177142,\n",
       "  'support': 4827},\n",
       " 'accuracy': 0.7764564514792409,\n",
       " 'macro avg': {'precision': 0.5146126518089302,\n",
       "  'recall': 0.5037797351741038,\n",
       "  'f1-score': 0.4769134540283782,\n",
       "  'support': 24134},\n",
       " 'weighted avg': {'precision': 0.6865938828361505,\n",
       "  'recall': 0.7764564514792409,\n",
       "  'f1-score': 0.7144090792317124,\n",
       "  'support': 24134}}"
      ]
     },
     "execution_count": 10,
     "metadata": {},
     "output_type": "execute_result"
    }
   ],
   "source": [
    "results['label_only_attack']['classification_report']"
   ]
  },
  {
   "cell_type": "code",
   "execution_count": 11,
   "metadata": {},
   "outputs": [
    {
     "data": {
      "text/plain": [
       "{'IN': {'precision': 0.7999253297934125,\n",
       "  'recall': 0.9987569275392345,\n",
       "  'f1-score': 0.8883514154746275,\n",
       "  'support': 19307},\n",
       " 'OUT': {'precision': 0.14285714285714285,\n",
       "  'recall': 0.0008286720530350114,\n",
       "  'f1-score': 0.0016477857878475798,\n",
       "  'support': 4827},\n",
       " 'accuracy': 0.7991630065467805,\n",
       " 'macro avg': {'precision': 0.4713912363252777,\n",
       "  'recall': 0.4997927997961348,\n",
       "  'f1-score': 0.44499960063123756,\n",
       "  'support': 24134},\n",
       " 'weighted avg': {'precision': 0.6685062472401112,\n",
       "  'recall': 0.7991630065467805,\n",
       "  'f1-score': 0.7110033413676379,\n",
       "  'support': 24134}}"
      ]
     },
     "execution_count": 11,
     "metadata": {},
     "output_type": "execute_result"
    }
   ],
   "source": [
    "results['aloa_attack']['classification_report']"
   ]
  }
 ],
 "metadata": {
  "kernelspec": {
   "display_name": "evaluator",
   "language": "python",
   "name": "python3"
  },
  "language_info": {
   "codemirror_mode": {
    "name": "ipython",
    "version": 3
   },
   "file_extension": ".py",
   "mimetype": "text/x-python",
   "name": "python",
   "nbconvert_exporter": "python",
   "pygments_lexer": "ipython3",
   "version": "3.10.13"
  }
 },
 "nbformat": 4,
 "nbformat_minor": 2
}
