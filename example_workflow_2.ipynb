{
 "cells": [
  {
   "cell_type": "code",
   "execution_count": 1,
   "metadata": {},
   "outputs": [],
   "source": [
    "import warnings\n",
    "\n",
    "import pandas as pd\n",
    "\n",
    "from MLWrappers import SklearnBlackBox\n",
    "from PrivacyAttacks import MiaPrivacyAttack, AloaPrivacyAttack\n",
    "from MLPrivacyEvaluator import PrivacyEvaluator\n",
    "\n",
    "warnings.simplefilter(\"ignore\", UserWarning)"
   ]
  },
  {
   "cell_type": "code",
   "execution_count": 2,
   "metadata": {},
   "outputs": [],
   "source": [
    "DS_NAME = 'gaussian'\n",
    "DATA_FOLDER = f'./data/{DS_NAME}'\n",
    "\n",
    "# we load the target black box model using our wrapper\n",
    "target = SklearnBlackBox(f'./models/rf_{DS_NAME}.pkl')\n",
    "\n",
    "# We load the data used to train, test of the model, as well as the shadow data\n",
    "train_set = pd.read_csv(f'{DATA_FOLDER}/{DS_NAME}_original_train_set.csv', skipinitialspace=True)\n",
    "test_set = pd.read_csv(f'{DATA_FOLDER}/{DS_NAME}_original_test_set.csv', skipinitialspace=True)\n",
    "shadow_set = pd.read_csv(f'{DATA_FOLDER}/{DS_NAME}_shadow_set.csv', skipinitialspace=True)"
   ]
  },
  {
   "cell_type": "code",
   "execution_count": 3,
   "metadata": {},
   "outputs": [],
   "source": [
    "# We initialise the attacks, with the desired parameters for each\n",
    "mia = MiaPrivacyAttack(target, n_shadow_models=5)\n",
    "aloa = AloaPrivacyAttack(target, n_shadow_models=1, n_noise_samples_fit=200,\n",
    "                         shadow_test_size=0.3, undersample_attack_dataset=True)\n",
    "attacks = [mia, aloa]"
   ]
  },
  {
   "cell_type": "code",
   "execution_count": 4,
   "metadata": {},
   "outputs": [],
   "source": [
    "# We initialise the PrivacyEvaluator object\n",
    "# We pass the target model and the attacks we want to use\n",
    "evaluator = PrivacyEvaluator(target, attacks)"
   ]
  },
  {
   "cell_type": "code",
   "execution_count": 5,
   "metadata": {},
   "outputs": [
    {
     "name": "stdout",
     "output_type": "stream",
     "text": [
      "Each shadow model uses 100.000 % of the data\n"
     ]
    },
    {
     "name": "stderr",
     "output_type": "stream",
     "text": [
      "100%|██████████| 4800/4800 [01:21<00:00, 58.59it/s]"
     ]
    },
    {
     "name": "stdout",
     "output_type": "stream",
     "text": [
      "[2.    1.    0.995 0.99  0.985 0.98  0.975 0.97  0.965 0.96  0.955 0.95\n",
      " 0.945 0.94  0.935 0.93  0.925 0.92  0.915 0.91  0.905 0.9   0.895 0.89\n",
      " 0.885 0.88  0.875 0.865 0.86  0.855 0.845 0.835 0.83  0.825 0.815 0.81\n",
      " 0.805 0.8   0.77  0.755 0.715 0.665 0.64  0.6   0.59  0.575 0.565 0.525\n",
      " 0.515 0.51  0.455 0.385 0.   ]\n"
     ]
    },
    {
     "name": "stderr",
     "output_type": "stream",
     "text": [
      "\n"
     ]
    }
   ],
   "source": [
    "# We use the fit() method to execute the attacks, starting from the shadow data\n",
    "evaluator.fit(shadow_set)"
   ]
  },
  {
   "cell_type": "code",
   "execution_count": 6,
   "metadata": {},
   "outputs": [
    {
     "name": "stderr",
     "output_type": "stream",
     "text": [
      "100%|██████████| 32000/32000 [08:30<00:00, 62.73it/s]\n"
     ]
    },
    {
     "name": "stdout",
     "output_type": "stream",
     "text": [
      "{'mia_attack': {'classification_report': {'IN': {'precision': 0.8074161534288541, 'recall': 0.988359375, 'f1-score': 0.8887718004109806, 'support': 25600}, 'OUT': {'precision': 0.55052790346908, 'recall': 0.05703125, 'f1-score': 0.1033555146538298, 'support': 6400}, 'accuracy': 0.80209375, 'macro avg': {'precision': 0.6789720284489671, 'recall': 0.5226953125, 'f1-score': 0.4960636575324052, 'support': 32000}, 'weighted avg': {'precision': 0.7560385034368993, 'recall': 0.80209375, 'f1-score': 0.7316885432595505, 'support': 32000}}}, 'aloa_attack': {'classification_report': {'IN': {'precision': 0.8002075591711024, 'recall': 0.9337109375, 'f1-score': 0.8618196895675218, 'support': 25600}, 'OUT': {'precision': 0.20291216533583842, 'recall': 0.0675, 'f1-score': 0.101301442138586, 'support': 6400}, 'accuracy': 0.76046875, 'macro avg': {'precision': 0.5015598622534704, 'recall': 0.50060546875, 'f1-score': 0.48156056585305385, 'support': 32000}, 'weighted avg': {'precision': 0.6807484804040496, 'recall': 0.76046875, 'f1-score': 0.7097160400817346, 'support': 32000}}}}\n"
     ]
    }
   ],
   "source": [
    "# Then we can obtain the performances using the report() method\n",
    "results = evaluator.report(train_set, test_set)\n",
    "print(results)\n"
   ]
  },
  {
   "cell_type": "code",
   "execution_count": 7,
   "metadata": {},
   "outputs": [
    {
     "data": {
      "text/plain": [
       "{'classification_report': {'IN': {'precision': 0.8074161534288541,\n",
       "   'recall': 0.988359375,\n",
       "   'f1-score': 0.8887718004109806,\n",
       "   'support': 25600},\n",
       "  'OUT': {'precision': 0.55052790346908,\n",
       "   'recall': 0.05703125,\n",
       "   'f1-score': 0.1033555146538298,\n",
       "   'support': 6400},\n",
       "  'accuracy': 0.80209375,\n",
       "  'macro avg': {'precision': 0.6789720284489671,\n",
       "   'recall': 0.5226953125,\n",
       "   'f1-score': 0.4960636575324052,\n",
       "   'support': 32000},\n",
       "  'weighted avg': {'precision': 0.7560385034368993,\n",
       "   'recall': 0.80209375,\n",
       "   'f1-score': 0.7316885432595505,\n",
       "   'support': 32000}}}"
      ]
     },
     "execution_count": 7,
     "metadata": {},
     "output_type": "execute_result"
    }
   ],
   "source": [
    "results['mia_attack']"
   ]
  },
  {
   "cell_type": "code",
   "execution_count": 8,
   "metadata": {},
   "outputs": [
    {
     "data": {
      "text/plain": [
       "{'IN': {'precision': 0.8002075591711024,\n",
       "  'recall': 0.9337109375,\n",
       "  'f1-score': 0.8618196895675218,\n",
       "  'support': 25600},\n",
       " 'OUT': {'precision': 0.20291216533583842,\n",
       "  'recall': 0.0675,\n",
       "  'f1-score': 0.101301442138586,\n",
       "  'support': 6400},\n",
       " 'accuracy': 0.76046875,\n",
       " 'macro avg': {'precision': 0.5015598622534704,\n",
       "  'recall': 0.50060546875,\n",
       "  'f1-score': 0.48156056585305385,\n",
       "  'support': 32000},\n",
       " 'weighted avg': {'precision': 0.6807484804040496,\n",
       "  'recall': 0.76046875,\n",
       "  'f1-score': 0.7097160400817346,\n",
       "  'support': 32000}}"
      ]
     },
     "execution_count": 8,
     "metadata": {},
     "output_type": "execute_result"
    }
   ],
   "source": [
    "results['aloa_attack']['classification_report']"
   ]
  },
  {
   "cell_type": "code",
   "execution_count": 9,
   "metadata": {},
   "outputs": [
    {
     "data": {
      "text/plain": [
       "0.995"
      ]
     },
     "execution_count": 9,
     "metadata": {},
     "output_type": "execute_result"
    }
   ],
   "source": [
    "aloa.attack_model.threshold"
   ]
  },
  {
   "cell_type": "code",
   "execution_count": null,
   "metadata": {},
   "outputs": [],
   "source": []
  }
 ],
 "metadata": {
  "kernelspec": {
   "display_name": "thesis",
   "language": "python",
   "name": "python3"
  },
  "language_info": {
   "codemirror_mode": {
    "name": "ipython",
    "version": 3
   },
   "file_extension": ".py",
   "mimetype": "text/x-python",
   "name": "python",
   "nbconvert_exporter": "python",
   "pygments_lexer": "ipython3",
   "version": "3.10.13"
  }
 },
 "nbformat": 4,
 "nbformat_minor": 2
}
