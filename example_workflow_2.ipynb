{
 "cells": [
  {
   "cell_type": "code",
   "execution_count": 8,
   "metadata": {},
   "outputs": [],
   "source": [
    "import warnings\n",
    "\n",
    "import pandas as pd\n",
    "\n",
    "from MLWrappers import SklearnBlackBox\n",
    "from PrivacyAttacks import MiaPrivacyAttack, AloaPrivacyAttack\n",
    "from MLPrivacyEvaluator import PrivacyEvaluator\n",
    "\n",
    "warnings.simplefilter(\"ignore\", UserWarning)"
   ]
  },
  {
   "cell_type": "code",
   "execution_count": 9,
   "metadata": {},
   "outputs": [],
   "source": [
    "DS_NAME = 'adult'\n",
    "DATA_FOLDER = f'./data/{DS_NAME}'\n",
    "\n",
    "# we load the target black box model using our wrapper\n",
    "target = SklearnBlackBox(f'./models/rf_{DS_NAME}.sav')\n",
    "\n",
    "# We load the data used to train, test of the model, as well as the shadow data\n",
    "train_set = pd.read_csv(f'{DATA_FOLDER}/{DS_NAME}_original_train_set.csv', skipinitialspace=True)[:800]\n",
    "test_set = pd.read_csv(f'{DATA_FOLDER}/{DS_NAME}_original_test_set.csv', skipinitialspace=True)[:400]\n",
    "shadow_set = pd.read_csv(f'{DATA_FOLDER}/{DS_NAME}_shadow_set.csv', skipinitialspace=True)[:500]"
   ]
  },
  {
   "cell_type": "code",
   "execution_count": 10,
   "metadata": {},
   "outputs": [],
   "source": [
    "# We initialise the attacks, with the desired parameters for each\n",
    "mia = MiaPrivacyAttack(target, n_shadow_models=5)\n",
    "aloa = AloaPrivacyAttack(target, n_shadow_models=1, n_noise_samples_fit=200)\n",
    "attacks = [mia, aloa]"
   ]
  },
  {
   "cell_type": "code",
   "execution_count": 11,
   "metadata": {},
   "outputs": [],
   "source": [
    "# We initialise the PrivacyEvaluator object\n",
    "# We pass the target model and the attacks we want to use\n",
    "evaluator = PrivacyEvaluator(target, attacks)"
   ]
  },
  {
   "cell_type": "code",
   "execution_count": 12,
   "metadata": {},
   "outputs": [
    {
     "name": "stderr",
     "output_type": "stream",
     "text": [
      "100%|██████████| 500/500 [00:11<00:00, 41.98it/s]\n"
     ]
    }
   ],
   "source": [
    "# We use the fit() method to execute the attacks, starting from the shadow data\n",
    "evaluator.fit(shadow_set)"
   ]
  },
  {
   "cell_type": "code",
   "execution_count": 13,
   "metadata": {},
   "outputs": [
    {
     "name": "stderr",
     "output_type": "stream",
     "text": [
      "100%|██████████| 1200/1200 [00:39<00:00, 30.22it/s]"
     ]
    },
    {
     "name": "stdout",
     "output_type": "stream",
     "text": [
      "{'mia_attack': {'classification_report': {'IN': {'precision': 0.715496368038741, 'recall': 0.73875, 'f1-score': 0.7269372693726938, 'support': 800}, 'OUT': {'precision': 0.4411764705882353, 'recall': 0.4125, 'f1-score': 0.4263565891472868, 'support': 400}, 'accuracy': 0.63, 'macro avg': {'precision': 0.5783364193134881, 'recall': 0.575625, 'f1-score': 0.5766469292599903, 'support': 1200}, 'weighted avg': {'precision': 0.6240564022219057, 'recall': 0.63, 'f1-score': 0.6267437092975581, 'support': 1200}}}, 'aloa_attack': {'classification_report': {'IN': {'precision': 0.6644295302013423, 'recall': 0.99, 'f1-score': 0.7951807228915664, 'support': 800}, 'OUT': {'precision': 0.0, 'recall': 0.0, 'f1-score': 0.0, 'support': 400}, 'accuracy': 0.66, 'macro avg': {'precision': 0.33221476510067116, 'recall': 0.495, 'f1-score': 0.3975903614457832, 'support': 1200}, 'weighted avg': {'precision': 0.44295302013422816, 'recall': 0.66, 'f1-score': 0.5301204819277109, 'support': 1200}}}}\n"
     ]
    },
    {
     "name": "stderr",
     "output_type": "stream",
     "text": [
      "\n"
     ]
    }
   ],
   "source": [
    "# Then we can obtain the performances using the report() method\n",
    "results = evaluator.report(train_set, test_set)\n",
    "print(results)\n"
   ]
  },
  {
   "cell_type": "code",
   "execution_count": 14,
   "metadata": {},
   "outputs": [
    {
     "data": {
      "text/plain": [
       "{'classification_report': {'IN': {'precision': 0.715496368038741,\n",
       "   'recall': 0.73875,\n",
       "   'f1-score': 0.7269372693726938,\n",
       "   'support': 800},\n",
       "  'OUT': {'precision': 0.4411764705882353,\n",
       "   'recall': 0.4125,\n",
       "   'f1-score': 0.4263565891472868,\n",
       "   'support': 400},\n",
       "  'accuracy': 0.63,\n",
       "  'macro avg': {'precision': 0.5783364193134881,\n",
       "   'recall': 0.575625,\n",
       "   'f1-score': 0.5766469292599903,\n",
       "   'support': 1200},\n",
       "  'weighted avg': {'precision': 0.6240564022219057,\n",
       "   'recall': 0.63,\n",
       "   'f1-score': 0.6267437092975581,\n",
       "   'support': 1200}}}"
      ]
     },
     "execution_count": 14,
     "metadata": {},
     "output_type": "execute_result"
    }
   ],
   "source": [
    "results['mia_attack']"
   ]
  },
  {
   "cell_type": "code",
   "execution_count": 15,
   "metadata": {},
   "outputs": [
    {
     "data": {
      "text/plain": [
       "{'IN': {'precision': 0.6644295302013423,\n",
       "  'recall': 0.99,\n",
       "  'f1-score': 0.7951807228915664,\n",
       "  'support': 800},\n",
       " 'OUT': {'precision': 0.0, 'recall': 0.0, 'f1-score': 0.0, 'support': 400},\n",
       " 'accuracy': 0.66,\n",
       " 'macro avg': {'precision': 0.33221476510067116,\n",
       "  'recall': 0.495,\n",
       "  'f1-score': 0.3975903614457832,\n",
       "  'support': 1200},\n",
       " 'weighted avg': {'precision': 0.44295302013422816,\n",
       "  'recall': 0.66,\n",
       "  'f1-score': 0.5301204819277109,\n",
       "  'support': 1200}}"
      ]
     },
     "execution_count": 15,
     "metadata": {},
     "output_type": "execute_result"
    }
   ],
   "source": [
    "results['aloa_attack']['classification_report']"
   ]
  }
 ],
 "metadata": {
  "kernelspec": {
   "display_name": "thesis",
   "language": "python",
   "name": "python3"
  },
  "language_info": {
   "codemirror_mode": {
    "name": "ipython",
    "version": 3
   },
   "file_extension": ".py",
   "mimetype": "text/x-python",
   "name": "python",
   "nbconvert_exporter": "python",
   "pygments_lexer": "ipython3",
   "version": "3.10.13"
  }
 },
 "nbformat": 4,
 "nbformat_minor": 2
}
