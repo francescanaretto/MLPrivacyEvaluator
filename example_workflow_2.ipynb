{
 "cells": [
  {
   "cell_type": "code",
   "execution_count": 1,
   "metadata": {},
   "outputs": [],
   "source": [
    "import warnings\n",
    "\n",
    "import pandas as pd\n",
    "\n",
    "from MLWrappers import SklearnBlackBox\n",
    "from PrivacyAttacks import MiaPrivacyAttack, AloaPrivacyAttack\n",
    "from MLPrivacyEvaluator import PrivacyEvaluator\n",
    "\n",
    "warnings.simplefilter(\"ignore\", UserWarning)"
   ]
  },
  {
   "cell_type": "code",
   "execution_count": 2,
   "metadata": {},
   "outputs": [],
   "source": [
    "DS_NAME = 'gaussian'\n",
    "DATA_FOLDER = f'./data/{DS_NAME}'\n",
    "\n",
    "# we load the target black box model using our wrapper\n",
    "target = SklearnBlackBox(f'./models/rf_{DS_NAME}.pkl')\n",
    "\n",
    "# We load the data used to train, test of the model, as well as the shadow data\n",
    "train_set = pd.read_csv(f'{DATA_FOLDER}/{DS_NAME}_original_train_set.csv', skipinitialspace=True)[:800]\n",
    "test_set = pd.read_csv(f'{DATA_FOLDER}/{DS_NAME}_original_test_set.csv', skipinitialspace=True)[:400]\n",
    "shadow_set = pd.read_csv(f'{DATA_FOLDER}/{DS_NAME}_shadow_set.csv', skipinitialspace=True)[:500]"
   ]
  },
  {
   "cell_type": "code",
   "execution_count": 3,
   "metadata": {},
   "outputs": [],
   "source": [
    "# We initialise the attacks, with the desired parameters for each\n",
    "mia = MiaPrivacyAttack(target, n_shadow_models=5)\n",
    "aloa = AloaPrivacyAttack(target, n_shadow_models=1, n_noise_samples_fit=200,\n",
    "                         shadow_test_size=0.3, undersample_attack_dataset=True)\n",
    "attacks = [mia, aloa]"
   ]
  },
  {
   "cell_type": "code",
   "execution_count": 4,
   "metadata": {},
   "outputs": [],
   "source": [
    "# We initialise the PrivacyEvaluator object\n",
    "# We pass the target model and the attacks we want to use\n",
    "evaluator = PrivacyEvaluator(target, attacks)"
   ]
  },
  {
   "cell_type": "code",
   "execution_count": 5,
   "metadata": {},
   "outputs": [
    {
     "name": "stdout",
     "output_type": "stream",
     "text": [
      "Each shadow model uses 100.000 % of the data\n"
     ]
    },
    {
     "name": "stderr",
     "output_type": "stream",
     "text": [
      "100%|██████████| 500/500 [00:08<00:00, 61.17it/s]"
     ]
    },
    {
     "name": "stdout",
     "output_type": "stream",
     "text": [
      "[2.    1.    0.995 0.99  0.985 0.98  0.975 0.97  0.96  0.95  0.93  0.665\n",
      " 0.58  0.525]\n"
     ]
    },
    {
     "name": "stderr",
     "output_type": "stream",
     "text": [
      "\n"
     ]
    }
   ],
   "source": [
    "# We use the fit() method to execute the attacks, starting from the shadow data\n",
    "evaluator.fit(shadow_set)"
   ]
  },
  {
   "cell_type": "code",
   "execution_count": 6,
   "metadata": {},
   "outputs": [
    {
     "name": "stderr",
     "output_type": "stream",
     "text": [
      "100%|██████████| 1200/1200 [00:19<00:00, 62.91it/s]"
     ]
    },
    {
     "name": "stdout",
     "output_type": "stream",
     "text": [
      "{'mia_attack': {'classification_report': {'IN': {'precision': 0.6591760299625468, 'recall': 0.66, 'f1-score': 0.6595877576514678, 'support': 800}, 'OUT': {'precision': 0.3182957393483709, 'recall': 0.3175, 'f1-score': 0.31789737171464333, 'support': 400}, 'accuracy': 0.5458333333333333, 'macro avg': {'precision': 0.4887358846554588, 'recall': 0.48875, 'f1-score': 0.48874256468305555, 'support': 1200}, 'weighted avg': {'precision': 0.5455492664244882, 'recall': 0.5458333333333333, 'f1-score': 0.545690962339193, 'support': 1200}}}, 'aloa_attack': {'classification_report': {'IN': {'precision': 0.6739702015775635, 'recall': 0.96125, 'f1-score': 0.7923750643997939, 'support': 800}, 'OUT': {'precision': 0.4745762711864407, 'recall': 0.07, 'f1-score': 0.12200435729847496, 'support': 400}, 'accuracy': 0.6641666666666667, 'macro avg': {'precision': 0.5742732363820021, 'recall': 0.515625, 'f1-score': 0.4571897108491344, 'support': 1200}, 'weighted avg': {'precision': 0.6075055581138559, 'recall': 0.6641666666666667, 'f1-score': 0.5689181620326875, 'support': 1200}}}}\n"
     ]
    },
    {
     "name": "stderr",
     "output_type": "stream",
     "text": [
      "\n"
     ]
    }
   ],
   "source": [
    "# Then we can obtain the performances using the report() method\n",
    "results = evaluator.report(train_set, test_set)\n",
    "print(results)\n"
   ]
  },
  {
   "cell_type": "code",
   "execution_count": 7,
   "metadata": {},
   "outputs": [
    {
     "data": {
      "text/plain": [
       "{'classification_report': {'IN': {'precision': 0.6591760299625468,\n",
       "   'recall': 0.66,\n",
       "   'f1-score': 0.6595877576514678,\n",
       "   'support': 800},\n",
       "  'OUT': {'precision': 0.3182957393483709,\n",
       "   'recall': 0.3175,\n",
       "   'f1-score': 0.31789737171464333,\n",
       "   'support': 400},\n",
       "  'accuracy': 0.5458333333333333,\n",
       "  'macro avg': {'precision': 0.4887358846554588,\n",
       "   'recall': 0.48875,\n",
       "   'f1-score': 0.48874256468305555,\n",
       "   'support': 1200},\n",
       "  'weighted avg': {'precision': 0.5455492664244882,\n",
       "   'recall': 0.5458333333333333,\n",
       "   'f1-score': 0.545690962339193,\n",
       "   'support': 1200}}}"
      ]
     },
     "execution_count": 7,
     "metadata": {},
     "output_type": "execute_result"
    }
   ],
   "source": [
    "results['mia_attack']"
   ]
  },
  {
   "cell_type": "code",
   "execution_count": 8,
   "metadata": {},
   "outputs": [
    {
     "data": {
      "text/plain": [
       "{'IN': {'precision': 0.6739702015775635,\n",
       "  'recall': 0.96125,\n",
       "  'f1-score': 0.7923750643997939,\n",
       "  'support': 800},\n",
       " 'OUT': {'precision': 0.4745762711864407,\n",
       "  'recall': 0.07,\n",
       "  'f1-score': 0.12200435729847496,\n",
       "  'support': 400},\n",
       " 'accuracy': 0.6641666666666667,\n",
       " 'macro avg': {'precision': 0.5742732363820021,\n",
       "  'recall': 0.515625,\n",
       "  'f1-score': 0.4571897108491344,\n",
       "  'support': 1200},\n",
       " 'weighted avg': {'precision': 0.6075055581138559,\n",
       "  'recall': 0.6641666666666667,\n",
       "  'f1-score': 0.5689181620326875,\n",
       "  'support': 1200}}"
      ]
     },
     "execution_count": 8,
     "metadata": {},
     "output_type": "execute_result"
    }
   ],
   "source": [
    "results['aloa_attack']['classification_report']"
   ]
  },
  {
   "cell_type": "code",
   "execution_count": 9,
   "metadata": {},
   "outputs": [
    {
     "data": {
      "text/plain": [
       "0.99"
      ]
     },
     "execution_count": 9,
     "metadata": {},
     "output_type": "execute_result"
    }
   ],
   "source": [
    "aloa.attack_model.threshold"
   ]
  },
  {
   "cell_type": "code",
   "execution_count": null,
   "metadata": {},
   "outputs": [],
   "source": []
  }
 ],
 "metadata": {
  "kernelspec": {
   "display_name": "thesis",
   "language": "python",
   "name": "python3"
  },
  "language_info": {
   "codemirror_mode": {
    "name": "ipython",
    "version": 3
   },
   "file_extension": ".py",
   "mimetype": "text/x-python",
   "name": "python",
   "nbconvert_exporter": "python",
   "pygments_lexer": "ipython3",
   "version": "3.10.13"
  }
 },
 "nbformat": 4,
 "nbformat_minor": 2
}
