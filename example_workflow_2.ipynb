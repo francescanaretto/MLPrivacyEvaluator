{
 "cells": [
  {
   "cell_type": "code",
   "execution_count": 1,
   "metadata": {},
   "outputs": [],
   "source": [
    "import warnings\n",
    "\n",
    "import pandas as pd\n",
    "\n",
    "from MLWrappers import SklearnBlackBox\n",
    "from PrivacyAttacks import MiaPrivacyAttack, LabelOnlyPrivacyAttack, AloaPrivacyAttack\n",
    "from MLPrivacyEvaluator import PrivacyEvaluator\n",
    "\n",
    "warnings.simplefilter(\"ignore\", UserWarning)"
   ]
  },
  {
   "cell_type": "code",
   "execution_count": 2,
   "metadata": {},
   "outputs": [],
   "source": [
    "DS_NAME = 'gaussian'\n",
    "DATA_FOLDER = f'./data/{DS_NAME}'\n",
    "\n",
    "# we load the target black box model using our wrapper\n",
    "target = SklearnBlackBox(f'./models/rf_{DS_NAME}.pkl')\n",
    "\n",
    "# We load the data used to train, test of the model, as well as the shadow data\n",
    "train_set = pd.read_csv(f'{DATA_FOLDER}/{DS_NAME}_original_train_set.csv', skipinitialspace=True)[:1000]\n",
    "test_set = pd.read_csv(f'{DATA_FOLDER}/{DS_NAME}_original_test_set.csv', skipinitialspace=True)[:1000]\n",
    "shadow_set = pd.read_csv(f'{DATA_FOLDER}/{DS_NAME}_shadow_set.csv', skipinitialspace=True)[:1000]"
   ]
  },
  {
   "cell_type": "code",
   "execution_count": 3,
   "metadata": {},
   "outputs": [],
   "source": [
    "# We initialise the attacks, with the desired parameters for each\n",
    "mia = MiaPrivacyAttack(target, n_shadow_models=5)\n",
    "label_only = LabelOnlyPrivacyAttack(target, n_shadow_models=1)\n",
    "aloa = AloaPrivacyAttack(target, n_shadow_models=1, n_noise_samples_fit=200,\n",
    "                         shadow_test_size=0.3, undersample_attack_dataset=True)\n",
    "attacks = [mia, label_only, aloa]"
   ]
  },
  {
   "cell_type": "code",
   "execution_count": 4,
   "metadata": {},
   "outputs": [],
   "source": [
    "# We initialise the PrivacyEvaluator object\n",
    "# We pass the target model and the attacks we want to use\n",
    "evaluator = PrivacyEvaluator(target, attacks)"
   ]
  },
  {
   "cell_type": "code",
   "execution_count": 5,
   "metadata": {},
   "outputs": [
    {
     "name": "stdout",
     "output_type": "stream",
     "text": [
      "Each shadow model uses 100.000 % of the data\n"
     ]
    },
    {
     "name": "stderr",
     "output_type": "stream",
     "text": [
      "100%|██████████| 1000/1000 [00:14<00:00, 68.78it/s]\n"
     ]
    },
    {
     "name": "stdout",
     "output_type": "stream",
     "text": [
      "Each shadow model uses 100.000 % of the data\n"
     ]
    },
    {
     "name": "stderr",
     "output_type": "stream",
     "text": [
      "100%|██████████| 600/600 [00:08<00:00, 68.27it/s]\n"
     ]
    }
   ],
   "source": [
    "# We use the fit() method to execute the attacks, starting from the shadow data\n",
    "evaluator.fit(shadow_set)"
   ]
  },
  {
   "cell_type": "code",
   "execution_count": 6,
   "metadata": {},
   "outputs": [
    {
     "name": "stderr",
     "output_type": "stream",
     "text": [
      "100%|██████████| 2000/2000 [00:32<00:00, 60.73it/s]\n",
      "100%|██████████| 2000/2000 [00:34<00:00, 57.16it/s]"
     ]
    },
    {
     "name": "stdout",
     "output_type": "stream",
     "text": [
      "{'mia_attack': {'classification_report': {'IN': {'precision': 0.5145228215767634, 'recall': 0.992, 'f1-score': 0.6775956284153004, 'support': 1000}, 'OUT': {'precision': 0.8888888888888888, 'recall': 0.064, 'f1-score': 0.11940298507462685, 'support': 1000}, 'accuracy': 0.528, 'macro avg': {'precision': 0.7017058552328261, 'recall': 0.528, 'f1-score': 0.39849930674496364, 'support': 2000}, 'weighted avg': {'precision': 0.7017058552328261, 'recall': 0.528, 'f1-score': 0.39849930674496364, 'support': 2000}}}, 'label_only_attack': {'classification_report': {'IN': {'precision': 0.0, 'recall': 0.0, 'f1-score': 0.0, 'support': 1000}, 'OUT': {'precision': 0.5, 'recall': 1.0, 'f1-score': 0.6666666666666666, 'support': 1000}, 'accuracy': 0.5, 'macro avg': {'precision': 0.25, 'recall': 0.5, 'f1-score': 0.3333333333333333, 'support': 2000}, 'weighted avg': {'precision': 0.25, 'recall': 0.5, 'f1-score': 0.3333333333333333, 'support': 2000}}}, 'aloa_attack': {'classification_report': {'IN': {'precision': 0.0, 'recall': 0.0, 'f1-score': 0.0, 'support': 1000}, 'OUT': {'precision': 0.5, 'recall': 1.0, 'f1-score': 0.6666666666666666, 'support': 1000}, 'accuracy': 0.5, 'macro avg': {'precision': 0.25, 'recall': 0.5, 'f1-score': 0.3333333333333333, 'support': 2000}, 'weighted avg': {'precision': 0.25, 'recall': 0.5, 'f1-score': 0.3333333333333333, 'support': 2000}}}}\n"
     ]
    },
    {
     "name": "stderr",
     "output_type": "stream",
     "text": [
      "\n"
     ]
    }
   ],
   "source": [
    "# Then we can obtain the performances using the report() method\n",
    "results = evaluator.report(train_set, test_set)\n",
    "print(results)\n"
   ]
  },
  {
   "cell_type": "code",
   "execution_count": 7,
   "metadata": {},
   "outputs": [
    {
     "data": {
      "text/plain": [
       "{'classification_report': {'IN': {'precision': 0.5145228215767634,\n",
       "   'recall': 0.992,\n",
       "   'f1-score': 0.6775956284153004,\n",
       "   'support': 1000},\n",
       "  'OUT': {'precision': 0.8888888888888888,\n",
       "   'recall': 0.064,\n",
       "   'f1-score': 0.11940298507462685,\n",
       "   'support': 1000},\n",
       "  'accuracy': 0.528,\n",
       "  'macro avg': {'precision': 0.7017058552328261,\n",
       "   'recall': 0.528,\n",
       "   'f1-score': 0.39849930674496364,\n",
       "   'support': 2000},\n",
       "  'weighted avg': {'precision': 0.7017058552328261,\n",
       "   'recall': 0.528,\n",
       "   'f1-score': 0.39849930674496364,\n",
       "   'support': 2000}}}"
      ]
     },
     "execution_count": 7,
     "metadata": {},
     "output_type": "execute_result"
    }
   ],
   "source": [
    "results['mia_attack']"
   ]
  },
  {
   "cell_type": "code",
   "execution_count": 8,
   "metadata": {},
   "outputs": [
    {
     "data": {
      "text/plain": [
       "{'IN': {'precision': 0.0, 'recall': 0.0, 'f1-score': 0.0, 'support': 1000},\n",
       " 'OUT': {'precision': 0.5,\n",
       "  'recall': 1.0,\n",
       "  'f1-score': 0.6666666666666666,\n",
       "  'support': 1000},\n",
       " 'accuracy': 0.5,\n",
       " 'macro avg': {'precision': 0.25,\n",
       "  'recall': 0.5,\n",
       "  'f1-score': 0.3333333333333333,\n",
       "  'support': 2000},\n",
       " 'weighted avg': {'precision': 0.25,\n",
       "  'recall': 0.5,\n",
       "  'f1-score': 0.3333333333333333,\n",
       "  'support': 2000}}"
      ]
     },
     "execution_count": 8,
     "metadata": {},
     "output_type": "execute_result"
    }
   ],
   "source": [
    "results['aloa_attack']['classification_report']"
   ]
  },
  {
   "cell_type": "code",
   "execution_count": 9,
   "metadata": {},
   "outputs": [
    {
     "data": {
      "text/plain": [
       "0.53"
      ]
     },
     "execution_count": 9,
     "metadata": {},
     "output_type": "execute_result"
    }
   ],
   "source": [
    "aloa.attack_model.threshold"
   ]
  },
  {
   "cell_type": "code",
   "execution_count": null,
   "metadata": {},
   "outputs": [],
   "source": []
  }
 ],
 "metadata": {
  "kernelspec": {
   "display_name": "thesis",
   "language": "python",
   "name": "python3"
  },
  "language_info": {
   "codemirror_mode": {
    "name": "ipython",
    "version": 3
   },
   "file_extension": ".py",
   "mimetype": "text/x-python",
   "name": "python",
   "nbconvert_exporter": "python",
   "pygments_lexer": "ipython3",
   "version": "3.10.13"
  }
 },
 "nbformat": 4,
 "nbformat_minor": 2
}
