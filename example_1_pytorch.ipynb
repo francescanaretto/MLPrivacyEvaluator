{
 "cells": [
  {
   "cell_type": "code",
   "execution_count": 13,
   "metadata": {},
   "outputs": [],
   "source": [
    "import warnings\n",
    "\n",
    "import pandas as pd\n",
    "import numpy as np\n",
    "import torch\n",
    "\n",
    "from MLWrappers import PyTorchBlackBox\n",
    "from PrivacyAttacks import MiaPrivacyAttack, LabelOnlyPrivacyAttack, AloaPrivacyAttack\n",
    "from MLPrivacyEvaluator import PrivacyEvaluator\n",
    "\n",
    "warnings.simplefilter(\"ignore\", UserWarning)"
   ]
  },
  {
   "cell_type": "code",
   "execution_count": 14,
   "metadata": {},
   "outputs": [],
   "source": [
    "# Definition of the PyTorch model\n",
    "\n",
    "class Net(torch.nn.Module):\n",
    "    \"\"\"PyTorch neural network.\"\"\"\n",
    "\n",
    "    def __init__(self, n_features, n_classes):\n",
    "        super().__init__()\n",
    "        self.n_features = n_features\n",
    "        self.n_classes = n_classes\n",
    "        self.fc1 = torch.nn.Linear(self.n_features, 64)\n",
    "        self.fc99 = torch.nn.Linear(64, self.n_classes)\n",
    "        self.dropout = torch.nn.Dropout(0.30)\n",
    "\n",
    "    def forward(self, x):\n",
    "        x = torch.nn.functional.tanh(self.fc1(x))\n",
    "        x = self.dropout(x)\n",
    "        out = torch.nn.functional.softmax(self.fc99(x), dim=1)\n",
    "        return out"
   ]
  },
  {
   "cell_type": "code",
   "execution_count": 15,
   "metadata": {},
   "outputs": [],
   "source": [
    "MODEL_NAME = 'nn_torch'\n",
    "DS_NAME = 'adult'\n",
    "DATA_FOLDER = f'./data/{DS_NAME}'\n",
    "\n",
    "# We load the data used to train and test the model, as well as the shadow data\n",
    "train_set = pd.read_csv(f'{DATA_FOLDER}/{DS_NAME}_original_train_set.csv', skipinitialspace=True)\n",
    "train_label = pd.read_csv(f'{DATA_FOLDER}/{DS_NAME}_original_train_label.csv', skipinitialspace=True)\n",
    "test_set = pd.read_csv(f'{DATA_FOLDER}/{DS_NAME}_original_test_set.csv', skipinitialspace=True)\n",
    "shadow_set = pd.read_csv(f'{DATA_FOLDER}/{DS_NAME}_shadow_set.csv', skipinitialspace=True)\n"
   ]
  },
  {
   "cell_type": "code",
   "execution_count": 16,
   "metadata": {},
   "outputs": [],
   "source": [
    "# we load the target black box model using our wrapper\n",
    "\n",
    "# For PyTorch we can load directly the jitted model\n",
    "target = PyTorchBlackBox(f'./models/{DS_NAME}_{MODEL_NAME}.pt')\n",
    "\n",
    "# Otherwise we can load the PyTorch state discitonary\n",
    "target = PyTorchBlackBox(f'./models/{DS_NAME}_{MODEL_NAME}.pkl',\n",
    "                         nn_class=Net(train_set.shape[1], len(np.unique(train_label))))"
   ]
  },
  {
   "cell_type": "code",
   "execution_count": 17,
   "metadata": {},
   "outputs": [],
   "source": [
    "# We can define the parameters to be passed to the shadow models (in our case random forests)\n",
    "shadow_forest_params = {'n_estimators': 100,\n",
    "                        'max_depth': 10}"
   ]
  },
  {
   "cell_type": "code",
   "execution_count": 18,
   "metadata": {},
   "outputs": [],
   "source": [
    "# We initialise the attacks, with the desired parameters for each\n",
    "mia = MiaPrivacyAttack(target,\n",
    "                       n_shadow_models=5)\n",
    "label_only = LabelOnlyPrivacyAttack(target,\n",
    "                                    n_shadow_models=1,\n",
    "                                    shadow_model_type='rf',\n",
    "                                    shadow_model_params=shadow_forest_params,\n",
    "                                    n_noise_samples_fit=1000)\n",
    "aloa = AloaPrivacyAttack(target,\n",
    "                         n_shadow_models=1,\n",
    "                         shadow_model_type='rf',\n",
    "                         shadow_model_params=shadow_forest_params,\n",
    "                         n_noise_samples_fit=1000,\n",
    "                         shadow_test_size=0.3,\n",
    "                         undersample_attack_dataset=True)\n",
    "attacks = [mia, label_only, aloa]"
   ]
  },
  {
   "cell_type": "code",
   "execution_count": 19,
   "metadata": {},
   "outputs": [],
   "source": [
    "# We initialise the PrivacyEvaluator object\n",
    "# We pass the target model and the list of attacks we want to use\n",
    "evaluator = PrivacyEvaluator(target, attacks)"
   ]
  },
  {
   "cell_type": "code",
   "execution_count": 20,
   "metadata": {},
   "outputs": [
    {
     "name": "stderr",
     "output_type": "stream",
     "text": [
      "100%|██████████| 6034/6034 [00:39<00:00, 152.68it/s]\n",
      "100%|██████████| 3622/3622 [00:17<00:00, 203.67it/s]\n"
     ]
    }
   ],
   "source": [
    "# We use the fit() method to execute the attacks, starting from the shadow data\n",
    "evaluator.fit(shadow_set, save_folder = f'./results_{DS_NAME}_{MODEL_NAME}')"
   ]
  },
  {
   "cell_type": "code",
   "execution_count": 21,
   "metadata": {},
   "outputs": [
    {
     "name": "stderr",
     "output_type": "stream",
     "text": [
      "100%|██████████| 24134/24134 [03:04<00:00, 130.74it/s]\n",
      "100%|██████████| 24134/24134 [02:03<00:00, 194.77it/s]\n"
     ]
    },
    {
     "name": "stdout",
     "output_type": "stream",
     "text": [
      "{'mia_attack': {'classification_report': {'IN': {'precision': 0.7999576540334533, 'recall': 0.9784534106800642, 'f1-score': 0.88024789152416, 'support': 19307}, 'OUT': {'precision': 0.19845857418111754, 'recall': 0.021338305365651542, 'f1-score': 0.03853348297792742, 'support': 4827}, 'accuracy': 0.7870224579431507, 'macro avg': {'precision': 0.49920811410728544, 'recall': 0.49989585802285785, 'f1-score': 0.45939068725104376, 'support': 24134}, 'weighted avg': {'precision': 0.6796528534016797, 'recall': 0.7870224579431507, 'f1-score': 0.7118980344738299, 'support': 24134}}}, 'label_only_attack': {'classification_report': {'IN': {'precision': 0.8005506714327119, 'recall': 0.8583933288444605, 'f1-score': 0.8284635956909695, 'support': 19307}, 'OUT': {'precision': 0.20337995337995338, 'recall': 0.14460327325460948, 'f1-score': 0.16902772732776367, 'support': 4827}, 'accuracy': 0.7156294025026932, 'macro avg': {'precision': 0.5019653124063326, 'recall': 0.501498301049535, 'f1-score': 0.4987456615093666, 'support': 24134}, 'weighted avg': {'precision': 0.6811115790302644, 'recall': 0.7156294025026932, 'f1-score': 0.6965709572311536, 'support': 24134}}}, 'aloa_attack': {'classification_report': {'IN': {'precision': 0.7999585578118524, 'recall': 0.9997928212565391, 'f1-score': 0.8887814535994659, 'support': 19307}, 'OUT': {'precision': 0.0, 'recall': 0.0, 'f1-score': 0.0, 'support': 4827}, 'accuracy': 0.7998259716582414, 'macro avg': {'precision': 0.3999792789059262, 'recall': 0.49989641062826956, 'f1-score': 0.44439072679973296, 'support': 24134}, 'weighted avg': {'precision': 0.6399602169418014, 'recall': 0.7998259716582414, 'f1-score': 0.7110177974908796, 'support': 24134}}}}\n"
     ]
    }
   ],
   "source": [
    "# Then we can obtain the performances using the report() method\n",
    "results = evaluator.report(train_set, test_set)\n",
    "print(results)"
   ]
  },
  {
   "cell_type": "code",
   "execution_count": 22,
   "metadata": {},
   "outputs": [
    {
     "data": {
      "text/plain": [
       "{'IN': {'precision': 0.7999576540334533,\n",
       "  'recall': 0.9784534106800642,\n",
       "  'f1-score': 0.88024789152416,\n",
       "  'support': 19307},\n",
       " 'OUT': {'precision': 0.19845857418111754,\n",
       "  'recall': 0.021338305365651542,\n",
       "  'f1-score': 0.03853348297792742,\n",
       "  'support': 4827},\n",
       " 'accuracy': 0.7870224579431507,\n",
       " 'macro avg': {'precision': 0.49920811410728544,\n",
       "  'recall': 0.49989585802285785,\n",
       "  'f1-score': 0.45939068725104376,\n",
       "  'support': 24134},\n",
       " 'weighted avg': {'precision': 0.6796528534016797,\n",
       "  'recall': 0.7870224579431507,\n",
       "  'f1-score': 0.7118980344738299,\n",
       "  'support': 24134}}"
      ]
     },
     "execution_count": 22,
     "metadata": {},
     "output_type": "execute_result"
    }
   ],
   "source": [
    "results['mia_attack']['classification_report']"
   ]
  },
  {
   "cell_type": "code",
   "execution_count": 23,
   "metadata": {},
   "outputs": [
    {
     "data": {
      "text/plain": [
       "{'IN': {'precision': 0.8005506714327119,\n",
       "  'recall': 0.8583933288444605,\n",
       "  'f1-score': 0.8284635956909695,\n",
       "  'support': 19307},\n",
       " 'OUT': {'precision': 0.20337995337995338,\n",
       "  'recall': 0.14460327325460948,\n",
       "  'f1-score': 0.16902772732776367,\n",
       "  'support': 4827},\n",
       " 'accuracy': 0.7156294025026932,\n",
       " 'macro avg': {'precision': 0.5019653124063326,\n",
       "  'recall': 0.501498301049535,\n",
       "  'f1-score': 0.4987456615093666,\n",
       "  'support': 24134},\n",
       " 'weighted avg': {'precision': 0.6811115790302644,\n",
       "  'recall': 0.7156294025026932,\n",
       "  'f1-score': 0.6965709572311536,\n",
       "  'support': 24134}}"
      ]
     },
     "execution_count": 23,
     "metadata": {},
     "output_type": "execute_result"
    }
   ],
   "source": [
    "results['label_only_attack']['classification_report']"
   ]
  },
  {
   "cell_type": "code",
   "execution_count": 24,
   "metadata": {},
   "outputs": [
    {
     "data": {
      "text/plain": [
       "{'IN': {'precision': 0.7999585578118524,\n",
       "  'recall': 0.9997928212565391,\n",
       "  'f1-score': 0.8887814535994659,\n",
       "  'support': 19307},\n",
       " 'OUT': {'precision': 0.0, 'recall': 0.0, 'f1-score': 0.0, 'support': 4827},\n",
       " 'accuracy': 0.7998259716582414,\n",
       " 'macro avg': {'precision': 0.3999792789059262,\n",
       "  'recall': 0.49989641062826956,\n",
       "  'f1-score': 0.44439072679973296,\n",
       "  'support': 24134},\n",
       " 'weighted avg': {'precision': 0.6399602169418014,\n",
       "  'recall': 0.7998259716582414,\n",
       "  'f1-score': 0.7110177974908796,\n",
       "  'support': 24134}}"
      ]
     },
     "execution_count": 24,
     "metadata": {},
     "output_type": "execute_result"
    }
   ],
   "source": [
    "results['aloa_attack']['classification_report']"
   ]
  }
 ],
 "metadata": {
  "kernelspec": {
   "display_name": "evaluator",
   "language": "python",
   "name": "python3"
  },
  "language_info": {
   "codemirror_mode": {
    "name": "ipython",
    "version": 3
   },
   "file_extension": ".py",
   "mimetype": "text/x-python",
   "name": "python",
   "nbconvert_exporter": "python",
   "pygments_lexer": "ipython3",
   "version": "3.10.13"
  }
 },
 "nbformat": 4,
 "nbformat_minor": 2
}
