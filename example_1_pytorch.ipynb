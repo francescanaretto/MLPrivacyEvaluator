{
 "cells": [
  {
   "cell_type": "code",
   "execution_count": 1,
   "metadata": {},
   "outputs": [],
   "source": [
    "import warnings\n",
    "\n",
    "import pandas as pd\n",
    "import numpy as np\n",
    "import torch\n",
    "\n",
    "from MLWrappers import PyTorchBlackBox\n",
    "from PrivacyAttacks import MiaPrivacyAttack, LabelOnlyPrivacyAttack, AloaPrivacyAttack\n",
    "from MLPrivacyEvaluator import PrivacyEvaluator\n",
    "\n",
    "warnings.simplefilter(\"ignore\", UserWarning)"
   ]
  },
  {
   "cell_type": "code",
   "execution_count": 2,
   "metadata": {},
   "outputs": [],
   "source": [
    "# Definition of the PyTorch model\n",
    "\n",
    "class Net(torch.nn.Module):\n",
    "    \"\"\"PyTorch neural network.\"\"\"\n",
    "\n",
    "    def __init__(self, n_features, n_classes):\n",
    "        super().__init__()\n",
    "        self.n_features = n_features\n",
    "        self.n_classes = n_classes\n",
    "        self.fc1 = torch.nn.Linear(self.n_features, 64)\n",
    "        self.fc99 = torch.nn.Linear(64, self.n_classes)\n",
    "        self.dropout = torch.nn.Dropout(0.30)\n",
    "\n",
    "    def forward(self, x):\n",
    "        x = torch.nn.functional.tanh(self.fc1(x))\n",
    "        x = self.dropout(x)\n",
    "        out = torch.nn.functional.softmax(self.fc99(x), dim=1)\n",
    "        return out"
   ]
  },
  {
   "cell_type": "code",
   "execution_count": 3,
   "metadata": {},
   "outputs": [],
   "source": [
    "MODEL_NAME = 'nn_torch'\n",
    "DS_NAME = 'adult'\n",
    "DATA_FOLDER = f'./data/{DS_NAME}'\n",
    "\n",
    "# We load the data used to train and test the model, as well as the shadow data\n",
    "train_set = pd.read_csv(f'{DATA_FOLDER}/{DS_NAME}_original_train_set.csv', skipinitialspace=True)\n",
    "train_label = pd.read_csv(f'{DATA_FOLDER}/{DS_NAME}_original_train_label.csv', skipinitialspace=True)\n",
    "test_set = pd.read_csv(f'{DATA_FOLDER}/{DS_NAME}_original_test_set.csv', skipinitialspace=True)\n",
    "shadow_set = pd.read_csv(f'{DATA_FOLDER}/{DS_NAME}_shadow_set.csv', skipinitialspace=True)\n"
   ]
  },
  {
   "cell_type": "code",
   "execution_count": 4,
   "metadata": {},
   "outputs": [],
   "source": [
    "# we load the target black box model using our wrapper\n",
    "\n",
    "# For PyTorch we can load directly the jitted model\n",
    "# This requires to convert the PyTorch model to a jitted one with torch.jit.script() and then .save()\n",
    "target = PyTorchBlackBox(f'./models/{DS_NAME}_{MODEL_NAME}.pt')\n",
    "\n",
    "# Otherwise we can load the PyTorch state discitonary\n",
    "# This requires the use of the same class used to create the PyTorch network\n",
    "target = PyTorchBlackBox(f'./models/{DS_NAME}_{MODEL_NAME}.pkl',\n",
    "                         nn_class=Net(train_set.shape[1], len(np.unique(train_label))))"
   ]
  },
  {
   "cell_type": "code",
   "execution_count": 5,
   "metadata": {},
   "outputs": [],
   "source": [
    "# We can define the parameters to be passed to the shadow models (in our case random forests)\n",
    "shadow_forest_params = {'n_estimators': 100,\n",
    "                        'max_depth': 10}"
   ]
  },
  {
   "cell_type": "code",
   "execution_count": 6,
   "metadata": {},
   "outputs": [],
   "source": [
    "# We initialise the attacks, with the desired parameters for each\n",
    "mia = MiaPrivacyAttack(target,\n",
    "                       n_shadow_models=5)\n",
    "label_only = LabelOnlyPrivacyAttack(target,\n",
    "                                    n_shadow_models=1,\n",
    "                                    shadow_model_type='rf',\n",
    "                                    shadow_model_params=shadow_forest_params,\n",
    "                                    n_noise_samples_fit=1000)\n",
    "aloa = AloaPrivacyAttack(target,\n",
    "                         n_shadow_models=1,\n",
    "                         shadow_model_type='rf',\n",
    "                         shadow_model_params=shadow_forest_params,\n",
    "                         n_noise_samples_fit=1000,\n",
    "                         shadow_test_size=0.3,\n",
    "                         undersample_attack_dataset=True)\n",
    "attacks = [mia, label_only, aloa]"
   ]
  },
  {
   "cell_type": "code",
   "execution_count": 7,
   "metadata": {},
   "outputs": [],
   "source": [
    "# We initialise the PrivacyEvaluator object\n",
    "# We pass the target model and the list of attacks we want to use\n",
    "evaluator = PrivacyEvaluator(target, attacks)"
   ]
  },
  {
   "cell_type": "code",
   "execution_count": 8,
   "metadata": {},
   "outputs": [
    {
     "name": "stderr",
     "output_type": "stream",
     "text": [
      "100%|██████████| 6034/6034 [00:46<00:00, 128.69it/s]\n",
      "100%|██████████| 3622/3622 [00:20<00:00, 180.88it/s]\n"
     ]
    }
   ],
   "source": [
    "# We use the fit() method to execute the attacks, starting from the shadow data\n",
    "evaluator.fit(shadow_set, save_folder = f'./results_{DS_NAME}_{MODEL_NAME}')"
   ]
  },
  {
   "cell_type": "code",
   "execution_count": 9,
   "metadata": {},
   "outputs": [
    {
     "name": "stderr",
     "output_type": "stream",
     "text": [
      "100%|██████████| 24134/24134 [02:50<00:00, 141.19it/s]\n",
      "100%|██████████| 24134/24134 [03:09<00:00, 127.18it/s]\n",
      "100%|██████████| 24134/24134 [02:19<00:00, 173.54it/s]\n"
     ]
    },
    {
     "name": "stdout",
     "output_type": "stream",
     "text": [
      "{'mia_attack': {'classification_report': {'IN': {'precision': 0.8001101788287143, 'recall': 0.9779354638214119, 'f1-score': 0.880130520918308, 'support': 19307}, 'OUT': {'precision': 0.20522388059701493, 'recall': 0.022788481458462812, 'f1-score': 0.04102181614767853, 'support': 4827}, 'accuracy': 0.7868981519847518, 'macro avg': {'precision': 0.5026670297128646, 'recall': 0.5003619726399374, 'f1-score': 0.46057616853299327, 'support': 24134}, 'weighted avg': {'precision': 0.6811279893216117, 'recall': 0.7868981519847518, 'f1-score': 0.7123018262167323, 'support': 24134}}}, 'label_only_attack': {'classification_report': {'IN': {'precision': 0.8012942324482564, 'recall': 0.808100688869322, 'f1-score': 0.8046830677188097, 'support': 19307}, 'OUT': {'precision': 0.20544713703624276, 'recall': 0.19846695670188522, 'f1-score': 0.20189673340358272, 'support': 4827}, 'accuracy': 0.6861688903621447, 'macro avg': {'precision': 0.5033706847422496, 'recall': 0.5032838227856036, 'f1-score': 0.5032899005611962, 'support': 24134}, 'weighted avg': {'precision': 0.6821198755429033, 'recall': 0.6861688903621446, 'f1-score': 0.6841208055268978, 'support': 24134}}}, 'aloa_attack': {'classification_report': {'IN': {'precision': 0.8000172436090874, 'recall': 0.9612057802869426, 'f1-score': 0.873235460191982, 'support': 19307}, 'OUT': {'precision': 0.2006403415154749, 'recall': 0.038947586492645535, 'f1-score': 0.0652324774462179, 'support': 4827}, 'accuracy': 0.776746498715505, 'macro avg': {'precision': 0.5003287925622811, 'recall': 0.500076683389794, 'f1-score': 0.46923396881909996, 'support': 24134}, 'weighted avg': {'precision': 0.6801368961156812, 'recall': 0.776746498715505, 'f1-score': 0.7116281676704852, 'support': 24134}}}}\n"
     ]
    }
   ],
   "source": [
    "# Then we can obtain the performances using the report() method\n",
    "results = evaluator.report(train_set, test_set)\n",
    "print(results)"
   ]
  },
  {
   "cell_type": "code",
   "execution_count": 10,
   "metadata": {},
   "outputs": [
    {
     "data": {
      "text/plain": [
       "{'IN': {'precision': 0.8001101788287143,\n",
       "  'recall': 0.9779354638214119,\n",
       "  'f1-score': 0.880130520918308,\n",
       "  'support': 19307},\n",
       " 'OUT': {'precision': 0.20522388059701493,\n",
       "  'recall': 0.022788481458462812,\n",
       "  'f1-score': 0.04102181614767853,\n",
       "  'support': 4827},\n",
       " 'accuracy': 0.7868981519847518,\n",
       " 'macro avg': {'precision': 0.5026670297128646,\n",
       "  'recall': 0.5003619726399374,\n",
       "  'f1-score': 0.46057616853299327,\n",
       "  'support': 24134},\n",
       " 'weighted avg': {'precision': 0.6811279893216117,\n",
       "  'recall': 0.7868981519847518,\n",
       "  'f1-score': 0.7123018262167323,\n",
       "  'support': 24134}}"
      ]
     },
     "execution_count": 10,
     "metadata": {},
     "output_type": "execute_result"
    }
   ],
   "source": [
    "results['mia_attack']['classification_report']"
   ]
  },
  {
   "cell_type": "code",
   "execution_count": 11,
   "metadata": {},
   "outputs": [
    {
     "data": {
      "text/plain": [
       "{'IN': {'precision': 0.8012942324482564,\n",
       "  'recall': 0.808100688869322,\n",
       "  'f1-score': 0.8046830677188097,\n",
       "  'support': 19307},\n",
       " 'OUT': {'precision': 0.20544713703624276,\n",
       "  'recall': 0.19846695670188522,\n",
       "  'f1-score': 0.20189673340358272,\n",
       "  'support': 4827},\n",
       " 'accuracy': 0.6861688903621447,\n",
       " 'macro avg': {'precision': 0.5033706847422496,\n",
       "  'recall': 0.5032838227856036,\n",
       "  'f1-score': 0.5032899005611962,\n",
       "  'support': 24134},\n",
       " 'weighted avg': {'precision': 0.6821198755429033,\n",
       "  'recall': 0.6861688903621446,\n",
       "  'f1-score': 0.6841208055268978,\n",
       "  'support': 24134}}"
      ]
     },
     "execution_count": 11,
     "metadata": {},
     "output_type": "execute_result"
    }
   ],
   "source": [
    "results['label_only_attack']['classification_report']"
   ]
  },
  {
   "cell_type": "code",
   "execution_count": 12,
   "metadata": {},
   "outputs": [
    {
     "data": {
      "text/plain": [
       "{'IN': {'precision': 0.8000172436090874,\n",
       "  'recall': 0.9612057802869426,\n",
       "  'f1-score': 0.873235460191982,\n",
       "  'support': 19307},\n",
       " 'OUT': {'precision': 0.2006403415154749,\n",
       "  'recall': 0.038947586492645535,\n",
       "  'f1-score': 0.0652324774462179,\n",
       "  'support': 4827},\n",
       " 'accuracy': 0.776746498715505,\n",
       " 'macro avg': {'precision': 0.5003287925622811,\n",
       "  'recall': 0.500076683389794,\n",
       "  'f1-score': 0.46923396881909996,\n",
       "  'support': 24134},\n",
       " 'weighted avg': {'precision': 0.6801368961156812,\n",
       "  'recall': 0.776746498715505,\n",
       "  'f1-score': 0.7116281676704852,\n",
       "  'support': 24134}}"
      ]
     },
     "execution_count": 12,
     "metadata": {},
     "output_type": "execute_result"
    }
   ],
   "source": [
    "results['aloa_attack']['classification_report']"
   ]
  }
 ],
 "metadata": {
  "kernelspec": {
   "display_name": "evaluator",
   "language": "python",
   "name": "python3"
  },
  "language_info": {
   "codemirror_mode": {
    "name": "ipython",
    "version": 3
   },
   "file_extension": ".py",
   "mimetype": "text/x-python",
   "name": "python",
   "nbconvert_exporter": "python",
   "pygments_lexer": "ipython3",
   "version": "3.10.13"
  }
 },
 "nbformat": 4,
 "nbformat_minor": 2
}
